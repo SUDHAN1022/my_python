{
  "nbformat": 4,
  "nbformat_minor": 0,
  "metadata": {
    "colab": {
      "provenance": [],
      "authorship_tag": "ABX9TyMyr2Tbt3oeH048ws0jMvOK",
      "include_colab_link": true
    },
    "kernelspec": {
      "name": "python3",
      "display_name": "Python 3"
    },
    "language_info": {
      "name": "python"
    }
  },
  "cells": [
    {
      "cell_type": "markdown",
      "metadata": {
        "id": "view-in-github",
        "colab_type": "text"
      },
      "source": [
        "<a href=\"https://colab.research.google.com/github/SUDHAN1022/my_python/blob/main/python_s2.ipynb\" target=\"_parent\"><img src=\"https://colab.research.google.com/assets/colab-badge.svg\" alt=\"Open In Colab\"/></a>"
      ]
    },
    {
      "cell_type": "markdown",
      "source": [
        "LISTS\n"
      ],
      "metadata": {
        "id": "sqbpRLqkCE4U"
      }
    },
    {
      "cell_type": "code",
      "execution_count": 1,
      "metadata": {
        "colab": {
          "base_uri": "https://localhost:8080/"
        },
        "id": "_3x1y6WvB6wH",
        "outputId": "50cb233b-5424-4b06-cc94-5ac0c446c8e8"
      },
      "outputs": [
        {
          "output_type": "stream",
          "name": "stdout",
          "text": [
            "['paul', 'mac', 'john']\n"
          ]
        }
      ],
      "source": [
        "friends=[\"paul\",\"mac\",\"john\"]\n",
        "print(friends)\n"
      ]
    },
    {
      "cell_type": "code",
      "source": [
        "print(friends[0])"
      ],
      "metadata": {
        "colab": {
          "base_uri": "https://localhost:8080/"
        },
        "id": "wdPXGU9IC5LF",
        "outputId": "05de56ee-76d7-4002-a129-d77aea5e45bd"
      },
      "execution_count": 2,
      "outputs": [
        {
          "output_type": "stream",
          "name": "stdout",
          "text": [
            "paul\n"
          ]
        }
      ]
    },
    {
      "cell_type": "code",
      "source": [
        "print(friends[0:2])"
      ],
      "metadata": {
        "colab": {
          "base_uri": "https://localhost:8080/"
        },
        "id": "JjRVKdbDDMeF",
        "outputId": "d3f7cd20-b638-4041-cfdf-c569adde95d8"
      },
      "execution_count": 9,
      "outputs": [
        {
          "output_type": "stream",
          "name": "stdout",
          "text": [
            "['paul', 'mac']\n"
          ]
        }
      ]
    },
    {
      "cell_type": "code",
      "source": [
        "friends[1]=\"rohit\"\n",
        "print(friends)"
      ],
      "metadata": {
        "colab": {
          "base_uri": "https://localhost:8080/"
        },
        "id": "UfXSSB02Do3h",
        "outputId": "67c52650-c7ab-42a6-993b-4f8d87473cdf"
      },
      "execution_count": 10,
      "outputs": [
        {
          "output_type": "stream",
          "name": "stdout",
          "text": [
            "['paul', 'rohit', 'john']\n"
          ]
        }
      ]
    }
  ]
}