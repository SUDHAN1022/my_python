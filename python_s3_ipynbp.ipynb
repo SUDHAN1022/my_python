{
  "nbformat": 4,
  "nbformat_minor": 0,
  "metadata": {
    "colab": {
      "provenance": [],
      "authorship_tag": "ABX9TyNaC4Mhf6vr0yhaoPY5i6v9",
      "include_colab_link": true
    },
    "kernelspec": {
      "name": "python3",
      "display_name": "Python 3"
    },
    "language_info": {
      "name": "python"
    }
  },
  "cells": [
    {
      "cell_type": "markdown",
      "metadata": {
        "id": "view-in-github",
        "colab_type": "text"
      },
      "source": [
        "<a href=\"https://colab.research.google.com/github/SUDHAN1022/my_python/blob/main/python_s3_ipynbp.ipynb\" target=\"_parent\"><img src=\"https://colab.research.google.com/assets/colab-badge.svg\" alt=\"Open In Colab\"/></a>"
      ]
    },
    {
      "cell_type": "markdown",
      "source": [
        "LIST  FUNCTIONS\n"
      ],
      "metadata": {
        "id": "Q0-wrZRUYnjL"
      }
    },
    {
      "cell_type": "code",
      "execution_count": null,
      "metadata": {
        "colab": {
          "base_uri": "https://localhost:8080/"
        },
        "id": "T9NtLx7NYFoE",
        "outputId": "9cc89d09-417b-4c22-c44e-6882ee08a8b5"
      },
      "outputs": [
        {
          "output_type": "stream",
          "name": "stdout",
          "text": [
            "['bobby', 'max', 'pop', 'pop', 'loki', 'kim']\n"
          ]
        }
      ],
      "source": [
        "lucky_numbers=[4,3,6,9,12,13]\n",
        "\n",
        "friends=[\"bobby\",\"max\",\"pop\",\"pop\",\"loki\",\"kim\"]\n",
        "friends2=friends.copy()\n",
        "print(friends2)"
      ]
    },
    {
      "cell_type": "markdown",
      "source": [
        "TUPLES\n",
        "-CONTAINER WHERE TO STORES DATATYPE"
      ],
      "metadata": {
        "id": "UEcyVx0x2UOc"
      }
    },
    {
      "cell_type": "code",
      "source": [
        "coordinates=[(1,2), (4,5),(6,7)]\n",
        "coordinates[1]=(0,2)\n",
        "\n",
        "print(coordinates)"
      ],
      "metadata": {
        "id": "yAXP8Xe7v12L",
        "colab": {
          "base_uri": "https://localhost:8080/"
        },
        "outputId": "199d24f0-2c8d-4f11-b2a9-bca7ec099d43"
      },
      "execution_count": 3,
      "outputs": [
        {
          "output_type": "stream",
          "name": "stdout",
          "text": [
            "[(1, 2), (0, 2), (6, 7)]\n"
          ]
        }
      ]
    },
    {
      "cell_type": "markdown",
      "source": [
        "FUNCTIONS"
      ],
      "metadata": {
        "id": "j7z7H3lC4cQ5"
      }
    },
    {
      "cell_type": "code",
      "source": [
        "def say_hi():\n",
        "  print(\"hello\")\n",
        "\n",
        "say_hi()"
      ],
      "metadata": {
        "colab": {
          "base_uri": "https://localhost:8080/"
        },
        "id": "vktVJ03o4qCS",
        "outputId": "b8a264df-867b-4e90-b8a4-16a78079b0c7"
      },
      "execution_count": 5,
      "outputs": [
        {
          "output_type": "stream",
          "name": "stdout",
          "text": [
            "hello\n"
          ]
        }
      ]
    },
    {
      "cell_type": "code",
      "source": [
        "def say_hi():\n",
        "  print(\"hello\")\n",
        "\n",
        "print(\"Top\")\n",
        "say_hi()\n",
        "print(\"Bottom\")"
      ],
      "metadata": {
        "colab": {
          "base_uri": "https://localhost:8080/"
        },
        "id": "QzAMQ0045nqd",
        "outputId": "ee6f8551-ff1b-4582-9340-15b6b0036835"
      },
      "execution_count": 6,
      "outputs": [
        {
          "output_type": "stream",
          "name": "stdout",
          "text": [
            "Top\n",
            "hello\n",
            "Bottom\n"
          ]
        }
      ]
    },
    {
      "cell_type": "code",
      "source": [
        "def say_hi(name):\n",
        "  print(\"hello \"+ name)\n",
        "\n",
        "say_hi(\"rohit\")\n",
        "say_hi(\"virat\")"
      ],
      "metadata": {
        "colab": {
          "base_uri": "https://localhost:8080/"
        },
        "id": "5wsxKG7950Fn",
        "outputId": "3d62e5b0-0daa-4187-a3a8-0db377400447"
      },
      "execution_count": 11,
      "outputs": [
        {
          "output_type": "stream",
          "name": "stdout",
          "text": [
            "hello rohit\n",
            "hello virat\n"
          ]
        }
      ]
    },
    {
      "cell_type": "code",
      "source": [
        "def say_hi(name, age):\n",
        "  print(\"hello \"+ name + \",you are \"+ str(age))\n",
        "say_hi(\"rohit\",35)\n",
        "say_hi(\"virat\",34)"
      ],
      "metadata": {
        "colab": {
          "base_uri": "https://localhost:8080/"
        },
        "id": "PU7GyND950PN",
        "outputId": "5d508cb3-3229-4a62-fd76-d827b1d6b3b9"
      },
      "execution_count": 14,
      "outputs": [
        {
          "output_type": "stream",
          "name": "stdout",
          "text": [
            "hello rohit,you are 35\n",
            "hello virat,you are 34\n"
          ]
        }
      ]
    },
    {
      "cell_type": "markdown",
      "source": [
        "RETURN STATEMENT IN FUNCTION\n"
      ],
      "metadata": {
        "id": "6cJ2v4L3Db4S"
      }
    },
    {
      "cell_type": "code",
      "source": [
        "def cube(num):\n",
        "  \n",
        "  return num*num*num\n",
        "\n",
        "cube(3)"
      ],
      "metadata": {
        "colab": {
          "base_uri": "https://localhost:8080/"
        },
        "id": "DAIaeo5SDgBf",
        "outputId": "292d0a0e-de0e-44a3-9501-308928e65e9f"
      },
      "execution_count": 17,
      "outputs": [
        {
          "output_type": "execute_result",
          "data": {
            "text/plain": [
              "27"
            ]
          },
          "metadata": {},
          "execution_count": 17
        }
      ]
    },
    {
      "cell_type": "code",
      "source": [
        "def cube(num):\n",
        "  return num*num*num\n",
        "  print(\"code\")\n",
        "\n",
        "result=cube(4)\n",
        "print(result)  "
      ],
      "metadata": {
        "colab": {
          "base_uri": "https://localhost:8080/"
        },
        "id": "wExlZUdKERMy",
        "outputId": "1b8994c4-356c-46cf-f546-b20b0dc421a3"
      },
      "execution_count": 19,
      "outputs": [
        {
          "output_type": "stream",
          "name": "stdout",
          "text": [
            "64\n"
          ]
        }
      ]
    }
  ]
}