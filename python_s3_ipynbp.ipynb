{
  "nbformat": 4,
  "nbformat_minor": 0,
  "metadata": {
    "colab": {
      "provenance": [],
      "authorship_tag": "ABX9TyOnWI6mCmqNdVVcHtQdOUPy",
      "include_colab_link": true
    },
    "kernelspec": {
      "name": "python3",
      "display_name": "Python 3"
    },
    "language_info": {
      "name": "python"
    }
  },
  "cells": [
    {
      "cell_type": "markdown",
      "metadata": {
        "id": "view-in-github",
        "colab_type": "text"
      },
      "source": [
        "<a href=\"https://colab.research.google.com/github/SUDHAN1022/my_python/blob/main/python_s3_ipynbp.ipynb\" target=\"_parent\"><img src=\"https://colab.research.google.com/assets/colab-badge.svg\" alt=\"Open In Colab\"/></a>"
      ]
    },
    {
      "cell_type": "markdown",
      "source": [
        "LIST  FUNCTIONS\n"
      ],
      "metadata": {
        "id": "Q0-wrZRUYnjL"
      }
    },
    {
      "cell_type": "code",
      "execution_count": null,
      "metadata": {
        "colab": {
          "base_uri": "https://localhost:8080/"
        },
        "id": "T9NtLx7NYFoE",
        "outputId": "9cc89d09-417b-4c22-c44e-6882ee08a8b5"
      },
      "outputs": [
        {
          "output_type": "stream",
          "name": "stdout",
          "text": [
            "['bobby', 'max', 'pop', 'pop', 'loki', 'kim']\n"
          ]
        }
      ],
      "source": [
        "lucky_numbers=[4,3,6,9,12,13]\n",
        "\n",
        "friends=[\"bobby\",\"max\",\"pop\",\"pop\",\"loki\",\"kim\"]\n",
        "friends2=friends.copy()\n",
        "print(friends2)"
      ]
    },
    {
      "cell_type": "markdown",
      "source": [
        "TUPLES\n",
        "-CONTAINER WHERE TO STORES DATATYPE"
      ],
      "metadata": {
        "id": "UEcyVx0x2UOc"
      }
    },
    {
      "cell_type": "code",
      "source": [
        "coordinates=[(1,2), (4,5),(6,7)]\n",
        "coordinates[1]=(0,2)\n",
        "\n",
        "print(coordinates)"
      ],
      "metadata": {
        "id": "yAXP8Xe7v12L",
        "colab": {
          "base_uri": "https://localhost:8080/"
        },
        "outputId": "199d24f0-2c8d-4f11-b2a9-bca7ec099d43"
      },
      "execution_count": null,
      "outputs": [
        {
          "output_type": "stream",
          "name": "stdout",
          "text": [
            "[(1, 2), (0, 2), (6, 7)]\n"
          ]
        }
      ]
    },
    {
      "cell_type": "markdown",
      "source": [
        "FUNCTIONS"
      ],
      "metadata": {
        "id": "j7z7H3lC4cQ5"
      }
    },
    {
      "cell_type": "code",
      "source": [
        "def say_hi():\n",
        "  print(\"hello\")\n",
        "\n",
        "say_hi()"
      ],
      "metadata": {
        "colab": {
          "base_uri": "https://localhost:8080/"
        },
        "id": "vktVJ03o4qCS",
        "outputId": "b8a264df-867b-4e90-b8a4-16a78079b0c7"
      },
      "execution_count": null,
      "outputs": [
        {
          "output_type": "stream",
          "name": "stdout",
          "text": [
            "hello\n"
          ]
        }
      ]
    },
    {
      "cell_type": "code",
      "source": [
        "def say_hi():\n",
        "  print(\"hello\")\n",
        "\n",
        "print(\"Top\")\n",
        "say_hi()\n",
        "print(\"Bottom\")"
      ],
      "metadata": {
        "colab": {
          "base_uri": "https://localhost:8080/"
        },
        "id": "QzAMQ0045nqd",
        "outputId": "ee6f8551-ff1b-4582-9340-15b6b0036835"
      },
      "execution_count": null,
      "outputs": [
        {
          "output_type": "stream",
          "name": "stdout",
          "text": [
            "Top\n",
            "hello\n",
            "Bottom\n"
          ]
        }
      ]
    },
    {
      "cell_type": "code",
      "source": [
        "def say_hi(name):\n",
        "  print(\"hello \"+ name)\n",
        "\n",
        "say_hi(\"rohit\")\n",
        "say_hi(\"virat\")"
      ],
      "metadata": {
        "colab": {
          "base_uri": "https://localhost:8080/"
        },
        "id": "5wsxKG7950Fn",
        "outputId": "3d62e5b0-0daa-4187-a3a8-0db377400447"
      },
      "execution_count": null,
      "outputs": [
        {
          "output_type": "stream",
          "name": "stdout",
          "text": [
            "hello rohit\n",
            "hello virat\n"
          ]
        }
      ]
    },
    {
      "cell_type": "code",
      "source": [
        "def say_hi(name, age):\n",
        "  print(\"hello \"+ name + \",you are \"+ str(age))\n",
        "say_hi(\"rohit\",35)\n",
        "say_hi(\"virat\",34)"
      ],
      "metadata": {
        "colab": {
          "base_uri": "https://localhost:8080/"
        },
        "id": "PU7GyND950PN",
        "outputId": "5d508cb3-3229-4a62-fd76-d827b1d6b3b9"
      },
      "execution_count": null,
      "outputs": [
        {
          "output_type": "stream",
          "name": "stdout",
          "text": [
            "hello rohit,you are 35\n",
            "hello virat,you are 34\n"
          ]
        }
      ]
    },
    {
      "cell_type": "markdown",
      "source": [
        "RETURN STATEMENT IN FUNCTION\n"
      ],
      "metadata": {
        "id": "6cJ2v4L3Db4S"
      }
    },
    {
      "cell_type": "code",
      "source": [
        "def cube(num):\n",
        "  \n",
        "  return num*num*num\n",
        "\n",
        "cube(3)"
      ],
      "metadata": {
        "colab": {
          "base_uri": "https://localhost:8080/"
        },
        "id": "DAIaeo5SDgBf",
        "outputId": "292d0a0e-de0e-44a3-9501-308928e65e9f"
      },
      "execution_count": null,
      "outputs": [
        {
          "output_type": "execute_result",
          "data": {
            "text/plain": [
              "27"
            ]
          },
          "metadata": {},
          "execution_count": 17
        }
      ]
    },
    {
      "cell_type": "code",
      "source": [
        "def cube(num):\n",
        "  return num*num*num\n",
        "  print(\"code\")\n",
        "\n",
        "result=cube(4)\n",
        "print(result)  "
      ],
      "metadata": {
        "colab": {
          "base_uri": "https://localhost:8080/"
        },
        "id": "wExlZUdKERMy",
        "outputId": "1b8994c4-356c-46cf-f546-b20b0dc421a3"
      },
      "execution_count": null,
      "outputs": [
        {
          "output_type": "stream",
          "name": "stdout",
          "text": [
            "64\n"
          ]
        }
      ]
    },
    {
      "cell_type": "markdown",
      "source": [
        "IF STATEMENTS\n"
      ],
      "metadata": {
        "id": "O5LUHKMFaQpl"
      }
    },
    {
      "cell_type": "code",
      "source": [
        "is_male=True\n",
        "\n",
        "if is_male:\n",
        "  print(\"you are male\")\n",
        "else:\n",
        "  print(\"you are not a male\")  \n"
      ],
      "metadata": {
        "colab": {
          "base_uri": "https://localhost:8080/"
        },
        "id": "mAVeDJ9caTVH",
        "outputId": "99925bac-a1e6-40c9-ac61-ef875b7b01d7"
      },
      "execution_count": null,
      "outputs": [
        {
          "output_type": "stream",
          "name": "stdout",
          "text": [
            "you are male\n"
          ]
        }
      ]
    },
    {
      "cell_type": "code",
      "source": [
        "is_male=True\n",
        "is_tall=False\n",
        "\n",
        "if is_male or is_tall:\n",
        "  print(\"you are male or tall or both\")\n",
        "\n",
        "else:\n",
        "  print(\"you are neither male nor tall\")  "
      ],
      "metadata": {
        "colab": {
          "base_uri": "https://localhost:8080/"
        },
        "id": "gubnBLVYcv4R",
        "outputId": "de212a20-9931-4b27-9878-6ed798d6f302"
      },
      "execution_count": null,
      "outputs": [
        {
          "output_type": "stream",
          "name": "stdout",
          "text": [
            "you are male or tall or both\n"
          ]
        }
      ]
    },
    {
      "cell_type": "code",
      "source": [
        "is_male=True\n",
        "is_tall=False\n",
        "\n",
        "if is_male and is_tall:\n",
        "  print(\"you are tall male\")\n",
        "else:\n",
        "  print(\"you are either not male or not tall or both\")  "
      ],
      "metadata": {
        "colab": {
          "base_uri": "https://localhost:8080/"
        },
        "id": "5A-8uBgMdv0v",
        "outputId": "6117a07f-deeb-4632-f435-2054c00e0728"
      },
      "execution_count": null,
      "outputs": [
        {
          "output_type": "stream",
          "name": "stdout",
          "text": [
            "you are either not male or not tall or both\n"
          ]
        }
      ]
    },
    {
      "cell_type": "code",
      "source": [
        "is_male=False\n",
        "is_tall=True\n",
        "\n",
        "if is_male and is_tall:\n",
        "  print(\"you are tall male\")\n",
        "elif is_male and not(is_tall):\n",
        "  print(\"you are a short male\") \n",
        "elif not(is_male) and  is_tall:\n",
        "  print(\"you are not a male but tall\")   \n",
        "else:\n",
        "  print(\"you are either not a male or not tall or both\")  "
      ],
      "metadata": {
        "colab": {
          "base_uri": "https://localhost:8080/"
        },
        "id": "6mgS2iKHeTo-",
        "outputId": "ad7c2ae4-6b42-45b0-ed5a-01857a009dc1"
      },
      "execution_count": null,
      "outputs": [
        {
          "output_type": "stream",
          "name": "stdout",
          "text": [
            "you are not a male but tall\n"
          ]
        }
      ]
    },
    {
      "cell_type": "markdown",
      "source": [
        "TRY OUT"
      ],
      "metadata": {
        "id": "WhX140CrgZHT"
      }
    },
    {
      "cell_type": "code",
      "source": [
        "def max_num(num1,num2,num3):\n",
        "  if num1 >=num2 and num1 >=num3:\n",
        "    return num1\n",
        "  elif num2>=num1 and num2 >=num3:\n",
        "    return num2 \n",
        "  elif num3>=num1 and num3 >=num2:\n",
        "    return num3\n",
        "\n",
        "print(max_num(3,41,5))    \n"
      ],
      "metadata": {
        "colab": {
          "base_uri": "https://localhost:8080/"
        },
        "id": "xmetNOwKgcXD",
        "outputId": "6b0bcce8-ec14-4d83-e91a-7224b717c72a"
      },
      "execution_count": null,
      "outputs": [
        {
          "output_type": "stream",
          "name": "stdout",
          "text": [
            "41\n"
          ]
        }
      ]
    },
    {
      "cell_type": "markdown",
      "source": [
        "BUILDING A CALCULATOR\n"
      ],
      "metadata": {
        "id": "ZCdQmh-6ijZW"
      }
    },
    {
      "cell_type": "code",
      "source": [
        "num1=float(input(\"Enter first number: \"))\n",
        "op=input(\"Enter opeartor: \")\n",
        "num2=float(input(\"Enter second number: \"))\n",
        "\n",
        "if op== \"+\":\n",
        "  print(num1+num2)\n",
        "elif op == \"-\":\n",
        "  print(num1-num2)\n",
        "elif op == \"*\":\n",
        "  print(num1*num2)\n",
        "elif op == \"/\":\n",
        "  print(num1 / num2)\n",
        "else :\n",
        "  print(\"opeartor doesn'4t exit\")  \n",
        "\n"
      ],
      "metadata": {
        "colab": {
          "base_uri": "https://localhost:8080/"
        },
        "id": "qMZlmS8rim4g",
        "outputId": "be853f06-6044-493d-f20c-f3145db89933"
      },
      "execution_count": null,
      "outputs": [
        {
          "output_type": "stream",
          "name": "stdout",
          "text": [
            "Enter first number: 4\n",
            "Enter opeartor: ?\n",
            "Enter second number: 2\n",
            "opeartor doesn't exit\n"
          ]
        }
      ]
    },
    {
      "cell_type": "markdown",
      "source": [
        "DICTIONARIES"
      ],
      "metadata": {
        "id": "uXV7BBDAIvrB"
      }
    },
    {
      "cell_type": "code",
      "source": [
        "monthconversions={\n",
        "    \"jan\": \"january\",\n",
        "    \"feb\" : \"feburauy\",\n",
        "    \"mar\": \"march\",\n",
        "    \"apl\":\"april\",\n",
        "    \"may\":\"may\"\n",
        "}\n",
        "\n",
        "print(monthconversions[\"jan\"])\n",
        "print(monthconversions.get(\"kol\",\"Not a valid key\"))"
      ],
      "metadata": {
        "colab": {
          "base_uri": "https://localhost:8080/"
        },
        "id": "rDnjJiC6I6jM",
        "outputId": "25aaa632-9c1f-4939-9e62-ce02cac96501"
      },
      "execution_count": null,
      "outputs": [
        {
          "output_type": "stream",
          "name": "stdout",
          "text": [
            "january\n",
            "Not a valid key\n"
          ]
        }
      ]
    },
    {
      "cell_type": "markdown",
      "source": [
        "WHILE LOOP\n"
      ],
      "metadata": {
        "id": "YLk8mEALLRfW"
      }
    },
    {
      "cell_type": "code",
      "source": [
        "i=1\n",
        "while i<=10:\n",
        "  print(i)\n",
        "  i +=1\n",
        "\n",
        "print(\"Done with loop\")  "
      ],
      "metadata": {
        "colab": {
          "base_uri": "https://localhost:8080/"
        },
        "id": "2fTawuhpLX2U",
        "outputId": "ffa9d2bf-9b50-44f8-daf5-766ad14c7e85"
      },
      "execution_count": null,
      "outputs": [
        {
          "output_type": "stream",
          "name": "stdout",
          "text": [
            "1\n",
            "2\n",
            "3\n",
            "4\n",
            "5\n",
            "6\n",
            "7\n",
            "8\n",
            "9\n",
            "10\n",
            "Done with loop\n"
          ]
        }
      ]
    },
    {
      "cell_type": "markdown",
      "source": [
        "BUILDING A GUESSING GAME"
      ],
      "metadata": {
        "id": "lLBlbFgvNKMA"
      }
    },
    {
      "cell_type": "code",
      "source": [
        "i=1\n",
        "while i<=10:\n",
        "  print(i)\n",
        "  i=i+1\n",
        "\n",
        "print(\"done\") "
      ],
      "metadata": {
        "id": "v3iu5xQQNNe_",
        "colab": {
          "base_uri": "https://localhost:8080/"
        },
        "outputId": "fafd0bbf-3e2a-491c-f862-bb40ff718291"
      },
      "execution_count": 3,
      "outputs": [
        {
          "output_type": "stream",
          "name": "stdout",
          "text": [
            "1\n",
            "2\n",
            "3\n",
            "4\n",
            "5\n",
            "6\n",
            "7\n",
            "8\n",
            "9\n",
            "10\n",
            "done\n"
          ]
        }
      ]
    }
  ]
}