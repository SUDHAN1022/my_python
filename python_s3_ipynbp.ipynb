{
  "nbformat": 4,
  "nbformat_minor": 0,
  "metadata": {
    "colab": {
      "provenance": [],
      "authorship_tag": "ABX9TyNEMN4/n3xmbkAu5/Wxe4G6",
      "include_colab_link": true
    },
    "kernelspec": {
      "name": "python3",
      "display_name": "Python 3"
    },
    "language_info": {
      "name": "python"
    }
  },
  "cells": [
    {
      "cell_type": "markdown",
      "metadata": {
        "id": "view-in-github",
        "colab_type": "text"
      },
      "source": [
        "<a href=\"https://colab.research.google.com/github/SUDHAN1022/my_python/blob/main/python_s3_ipynbp.ipynb\" target=\"_parent\"><img src=\"https://colab.research.google.com/assets/colab-badge.svg\" alt=\"Open In Colab\"/></a>"
      ]
    },
    {
      "cell_type": "markdown",
      "source": [
        "LIST  FUNCTIONS\n"
      ],
      "metadata": {
        "id": "Q0-wrZRUYnjL"
      }
    },
    {
      "cell_type": "code",
      "execution_count": null,
      "metadata": {
        "colab": {
          "base_uri": "https://localhost:8080/"
        },
        "id": "T9NtLx7NYFoE",
        "outputId": "9cc89d09-417b-4c22-c44e-6882ee08a8b5"
      },
      "outputs": [
        {
          "output_type": "stream",
          "name": "stdout",
          "text": [
            "['bobby', 'max', 'pop', 'pop', 'loki', 'kim']\n"
          ]
        }
      ],
      "source": [
        "lucky_numbers=[4,3,6,9,12,13]\n",
        "\n",
        "friends=[\"bobby\",\"max\",\"pop\",\"pop\",\"loki\",\"kim\"]\n",
        "friends2=friends.copy()\n",
        "print(friends2)"
      ]
    },
    {
      "cell_type": "markdown",
      "source": [
        "TUPLES\n",
        "-CONTAINER WHERE TO STORES DATATYPE"
      ],
      "metadata": {
        "id": "UEcyVx0x2UOc"
      }
    },
    {
      "cell_type": "code",
      "source": [
        "coordinates=[(1,2), (4,5),(6,7)]\n",
        "coordinates[1]=(0,2)\n",
        "\n",
        "print(coordinates)"
      ],
      "metadata": {
        "id": "yAXP8Xe7v12L",
        "colab": {
          "base_uri": "https://localhost:8080/"
        },
        "outputId": "199d24f0-2c8d-4f11-b2a9-bca7ec099d43"
      },
      "execution_count": null,
      "outputs": [
        {
          "output_type": "stream",
          "name": "stdout",
          "text": [
            "[(1, 2), (0, 2), (6, 7)]\n"
          ]
        }
      ]
    },
    {
      "cell_type": "markdown",
      "source": [
        "FUNCTIONS"
      ],
      "metadata": {
        "id": "j7z7H3lC4cQ5"
      }
    },
    {
      "cell_type": "code",
      "source": [
        "def say_hi():\n",
        "  print(\"hello\")\n",
        "\n",
        "say_hi()"
      ],
      "metadata": {
        "colab": {
          "base_uri": "https://localhost:8080/"
        },
        "id": "vktVJ03o4qCS",
        "outputId": "b8a264df-867b-4e90-b8a4-16a78079b0c7"
      },
      "execution_count": null,
      "outputs": [
        {
          "output_type": "stream",
          "name": "stdout",
          "text": [
            "hello\n"
          ]
        }
      ]
    },
    {
      "cell_type": "code",
      "source": [
        "def say_hi():\n",
        "  print(\"hello\")\n",
        "\n",
        "print(\"Top\")\n",
        "say_hi()\n",
        "print(\"Bottom\")"
      ],
      "metadata": {
        "colab": {
          "base_uri": "https://localhost:8080/"
        },
        "id": "QzAMQ0045nqd",
        "outputId": "ee6f8551-ff1b-4582-9340-15b6b0036835"
      },
      "execution_count": null,
      "outputs": [
        {
          "output_type": "stream",
          "name": "stdout",
          "text": [
            "Top\n",
            "hello\n",
            "Bottom\n"
          ]
        }
      ]
    },
    {
      "cell_type": "code",
      "source": [
        "def say_hi(name):\n",
        "  print(\"hello \"+ name)\n",
        "\n",
        "say_hi(\"rohit\")\n",
        "say_hi(\"virat\")"
      ],
      "metadata": {
        "colab": {
          "base_uri": "https://localhost:8080/"
        },
        "id": "5wsxKG7950Fn",
        "outputId": "3d62e5b0-0daa-4187-a3a8-0db377400447"
      },
      "execution_count": null,
      "outputs": [
        {
          "output_type": "stream",
          "name": "stdout",
          "text": [
            "hello rohit\n",
            "hello virat\n"
          ]
        }
      ]
    },
    {
      "cell_type": "code",
      "source": [
        "def say_hi(name, age):\n",
        "  print(\"hello \"+ name + \",you are \"+ str(age))\n",
        "say_hi(\"rohit\",35)\n",
        "say_hi(\"virat\",34)"
      ],
      "metadata": {
        "colab": {
          "base_uri": "https://localhost:8080/"
        },
        "id": "PU7GyND950PN",
        "outputId": "5d508cb3-3229-4a62-fd76-d827b1d6b3b9"
      },
      "execution_count": null,
      "outputs": [
        {
          "output_type": "stream",
          "name": "stdout",
          "text": [
            "hello rohit,you are 35\n",
            "hello virat,you are 34\n"
          ]
        }
      ]
    },
    {
      "cell_type": "markdown",
      "source": [
        "RETURN STATEMENT IN FUNCTION\n"
      ],
      "metadata": {
        "id": "6cJ2v4L3Db4S"
      }
    },
    {
      "cell_type": "code",
      "source": [
        "def cube(num):\n",
        "  \n",
        "  return num*num*num\n",
        "\n",
        "cube(3)"
      ],
      "metadata": {
        "colab": {
          "base_uri": "https://localhost:8080/"
        },
        "id": "DAIaeo5SDgBf",
        "outputId": "292d0a0e-de0e-44a3-9501-308928e65e9f"
      },
      "execution_count": null,
      "outputs": [
        {
          "output_type": "execute_result",
          "data": {
            "text/plain": [
              "27"
            ]
          },
          "metadata": {},
          "execution_count": 17
        }
      ]
    },
    {
      "cell_type": "code",
      "source": [
        "def cube(num):\n",
        "  return num*num*num\n",
        "  print(\"code\")\n",
        "\n",
        "result=cube(4)\n",
        "print(result)  "
      ],
      "metadata": {
        "colab": {
          "base_uri": "https://localhost:8080/"
        },
        "id": "wExlZUdKERMy",
        "outputId": "1b8994c4-356c-46cf-f546-b20b0dc421a3"
      },
      "execution_count": null,
      "outputs": [
        {
          "output_type": "stream",
          "name": "stdout",
          "text": [
            "64\n"
          ]
        }
      ]
    },
    {
      "cell_type": "markdown",
      "source": [
        "IF STATEMENTS\n"
      ],
      "metadata": {
        "id": "O5LUHKMFaQpl"
      }
    },
    {
      "cell_type": "code",
      "source": [
        "is_male=True\n",
        "\n",
        "if is_male:\n",
        "  print(\"you are male\")\n",
        "else:\n",
        "  print(\"you are not a male\")  \n"
      ],
      "metadata": {
        "colab": {
          "base_uri": "https://localhost:8080/"
        },
        "id": "mAVeDJ9caTVH",
        "outputId": "99925bac-a1e6-40c9-ac61-ef875b7b01d7"
      },
      "execution_count": null,
      "outputs": [
        {
          "output_type": "stream",
          "name": "stdout",
          "text": [
            "you are male\n"
          ]
        }
      ]
    },
    {
      "cell_type": "code",
      "source": [
        "is_male=True\n",
        "is_tall=False\n",
        "\n",
        "if is_male or is_tall:\n",
        "  print(\"you are male or tall or both\")\n",
        "\n",
        "else:\n",
        "  print(\"you are neither male nor tall\")  "
      ],
      "metadata": {
        "colab": {
          "base_uri": "https://localhost:8080/"
        },
        "id": "gubnBLVYcv4R",
        "outputId": "de212a20-9931-4b27-9878-6ed798d6f302"
      },
      "execution_count": null,
      "outputs": [
        {
          "output_type": "stream",
          "name": "stdout",
          "text": [
            "you are male or tall or both\n"
          ]
        }
      ]
    },
    {
      "cell_type": "code",
      "source": [
        "is_male=True\n",
        "is_tall=False\n",
        "\n",
        "if is_male and is_tall:\n",
        "  print(\"you are tall male\")\n",
        "else:\n",
        "  print(\"you are either not male or not tall or both\")  "
      ],
      "metadata": {
        "colab": {
          "base_uri": "https://localhost:8080/"
        },
        "id": "5A-8uBgMdv0v",
        "outputId": "6117a07f-deeb-4632-f435-2054c00e0728"
      },
      "execution_count": null,
      "outputs": [
        {
          "output_type": "stream",
          "name": "stdout",
          "text": [
            "you are either not male or not tall or both\n"
          ]
        }
      ]
    },
    {
      "cell_type": "code",
      "source": [
        "is_male=False\n",
        "is_tall=True\n",
        "\n",
        "if is_male and is_tall:\n",
        "  print(\"you are tall male\")\n",
        "elif is_male and not(is_tall):\n",
        "  print(\"you are a short male\") \n",
        "elif not(is_male) and  is_tall:\n",
        "  print(\"you are not a male but tall\")   \n",
        "else:\n",
        "  print(\"you are either not a male or not tall or both\")  "
      ],
      "metadata": {
        "colab": {
          "base_uri": "https://localhost:8080/"
        },
        "id": "6mgS2iKHeTo-",
        "outputId": "ad7c2ae4-6b42-45b0-ed5a-01857a009dc1"
      },
      "execution_count": null,
      "outputs": [
        {
          "output_type": "stream",
          "name": "stdout",
          "text": [
            "you are not a male but tall\n"
          ]
        }
      ]
    },
    {
      "cell_type": "markdown",
      "source": [
        "TRY OUT"
      ],
      "metadata": {
        "id": "WhX140CrgZHT"
      }
    },
    {
      "cell_type": "code",
      "source": [
        "def max_num(num1,num2,num3):\n",
        "  if num1 >=num2 and num1 >=num3:\n",
        "    return num1\n",
        "  elif num2>=num1 and num2 >=num3:\n",
        "    return num2 \n",
        "  elif num3>=num1 and num3 >=num2:\n",
        "    return num3\n",
        "\n",
        "print(max_num(3,41,5))    \n"
      ],
      "metadata": {
        "colab": {
          "base_uri": "https://localhost:8080/"
        },
        "id": "xmetNOwKgcXD",
        "outputId": "6b0bcce8-ec14-4d83-e91a-7224b717c72a"
      },
      "execution_count": null,
      "outputs": [
        {
          "output_type": "stream",
          "name": "stdout",
          "text": [
            "41\n"
          ]
        }
      ]
    },
    {
      "cell_type": "markdown",
      "source": [
        "BUILDING A CALCULATOR\n"
      ],
      "metadata": {
        "id": "ZCdQmh-6ijZW"
      }
    },
    {
      "cell_type": "code",
      "source": [
        "num1=float(input(\"Enter first number: \"))\n",
        "op=input(\"Enter opeartor: \")\n",
        "num2=float(input(\"Enter second number: \"))\n",
        "\n",
        "if op== \"+\":\n",
        "  print(num1+num2)\n",
        "elif op == \"-\":\n",
        "  print(num1-num2)\n",
        "elif op == \"*\":\n",
        "  print(num1*num2)\n",
        "elif op == \"/\":\n",
        "  print(num1 / num2)\n",
        "else :\n",
        "  print(\"opeartor doesn'4t exit\")  \n",
        "\n"
      ],
      "metadata": {
        "colab": {
          "base_uri": "https://localhost:8080/"
        },
        "id": "qMZlmS8rim4g",
        "outputId": "be853f06-6044-493d-f20c-f3145db89933"
      },
      "execution_count": null,
      "outputs": [
        {
          "output_type": "stream",
          "name": "stdout",
          "text": [
            "Enter first number: 4\n",
            "Enter opeartor: ?\n",
            "Enter second number: 2\n",
            "opeartor doesn't exit\n"
          ]
        }
      ]
    },
    {
      "cell_type": "markdown",
      "source": [
        "DICTIONARIES"
      ],
      "metadata": {
        "id": "uXV7BBDAIvrB"
      }
    },
    {
      "cell_type": "code",
      "source": [
        "monthconversions={\n",
        "    \"jan\": \"january\",\n",
        "    \"feb\" : \"feburauy\",\n",
        "    \"mar\": \"march\",\n",
        "    \"apl\":\"april\",\n",
        "    \"may\":\"may\"\n",
        "}\n",
        "\n",
        "print(monthconversions[\"jan\"])\n",
        "print(monthconversions.get(\"kol\",\"Not a valid key\"))"
      ],
      "metadata": {
        "colab": {
          "base_uri": "https://localhost:8080/"
        },
        "id": "rDnjJiC6I6jM",
        "outputId": "25aaa632-9c1f-4939-9e62-ce02cac96501"
      },
      "execution_count": null,
      "outputs": [
        {
          "output_type": "stream",
          "name": "stdout",
          "text": [
            "january\n",
            "Not a valid key\n"
          ]
        }
      ]
    },
    {
      "cell_type": "markdown",
      "source": [
        "WHILE LOOP\n"
      ],
      "metadata": {
        "id": "YLk8mEALLRfW"
      }
    },
    {
      "cell_type": "code",
      "source": [
        "i=1\n",
        "while i<=10:\n",
        "  print(i)\n",
        "  i +=1\n",
        "\n",
        "print(\"Done with loop\")  "
      ],
      "metadata": {
        "colab": {
          "base_uri": "https://localhost:8080/"
        },
        "id": "2fTawuhpLX2U",
        "outputId": "ffa9d2bf-9b50-44f8-daf5-766ad14c7e85"
      },
      "execution_count": null,
      "outputs": [
        {
          "output_type": "stream",
          "name": "stdout",
          "text": [
            "1\n",
            "2\n",
            "3\n",
            "4\n",
            "5\n",
            "6\n",
            "7\n",
            "8\n",
            "9\n",
            "10\n",
            "Done with loop\n"
          ]
        }
      ]
    },
    {
      "cell_type": "code",
      "source": [
        "i=1\n",
        "while i<=10:\n",
        "  print(i)\n",
        "  i=i+1\n",
        "\n",
        "print(\"done\") "
      ],
      "metadata": {
        "id": "v3iu5xQQNNe_",
        "colab": {
          "base_uri": "https://localhost:8080/"
        },
        "outputId": "fafd0bbf-3e2a-491c-f862-bb40ff718291"
      },
      "execution_count": null,
      "outputs": [
        {
          "output_type": "stream",
          "name": "stdout",
          "text": [
            "1\n",
            "2\n",
            "3\n",
            "4\n",
            "5\n",
            "6\n",
            "7\n",
            "8\n",
            "9\n",
            "10\n",
            "done\n"
          ]
        }
      ]
    },
    {
      "cell_type": "code",
      "source": [
        "for i in range(0,10,2):\n",
        "  print(i)"
      ],
      "metadata": {
        "colab": {
          "base_uri": "https://localhost:8080/"
        },
        "id": "9L0ia8nHc2vZ",
        "outputId": "e74dfd38-c7c5-4250-ad4c-250e8ece2747"
      },
      "execution_count": null,
      "outputs": [
        {
          "output_type": "stream",
          "name": "stdout",
          "text": [
            "0\n",
            "2\n",
            "4\n",
            "6\n",
            "8\n"
          ]
        }
      ]
    },
    {
      "cell_type": "code",
      "source": [
        "i=0\n",
        "while i<10:\n",
        "  print(i)\n",
        "  i=i+1\n",
        "print(\"done !\")  "
      ],
      "metadata": {
        "colab": {
          "base_uri": "https://localhost:8080/"
        },
        "id": "A8vbwXa7dpbr",
        "outputId": "fc09ad41-d21e-48f2-9c62-aae7bc6f379c"
      },
      "execution_count": null,
      "outputs": [
        {
          "output_type": "stream",
          "name": "stdout",
          "text": [
            "0\n",
            "1\n",
            "2\n",
            "3\n",
            "4\n",
            "5\n",
            "6\n",
            "7\n",
            "8\n",
            "9\n",
            "done !\n"
          ]
        }
      ]
    },
    {
      "cell_type": "code",
      "source": [
        "num =[ 1,2,3,4,5]\n",
        "\n",
        "for num in num:\n",
        "  if num==3:\n",
        "    print(\"Found\")\n",
        "    continue\n",
        "  print(num)"
      ],
      "metadata": {
        "colab": {
          "base_uri": "https://localhost:8080/"
        },
        "id": "VGvInCYVeqsb",
        "outputId": "185dea33-1542-46d7-c86c-02a3ca3c5dec"
      },
      "execution_count": null,
      "outputs": [
        {
          "output_type": "stream",
          "name": "stdout",
          "text": [
            "1\n",
            "2\n",
            "Found\n",
            "4\n",
            "5\n"
          ]
        }
      ]
    },
    {
      "cell_type": "code",
      "source": [
        "num =[1,2,3,4,5]\n",
        "\n",
        "for num in num:\n",
        "  for letters in 'abc':\n",
        "    print(num,letters)"
      ],
      "metadata": {
        "colab": {
          "base_uri": "https://localhost:8080/"
        },
        "id": "iohWF-LIgtK-",
        "outputId": "d80115e3-3c31-4733-fed6-9b6bbdd210fc"
      },
      "execution_count": null,
      "outputs": [
        {
          "output_type": "stream",
          "name": "stdout",
          "text": [
            "1 a\n",
            "1 b\n",
            "1 c\n",
            "2 a\n",
            "2 b\n",
            "2 c\n",
            "3 a\n",
            "3 b\n",
            "3 c\n",
            "4 a\n",
            "4 b\n",
            "4 c\n",
            "5 a\n",
            "5 b\n",
            "5 c\n"
          ]
        }
      ]
    },
    {
      "cell_type": "markdown",
      "source": [
        "BUILDING A GUESSING GAME\n"
      ],
      "metadata": {
        "id": "OQOk5lVbio45"
      }
    },
    {
      "cell_type": "code",
      "source": [
        "secret_word=\"rohit\"\n",
        "guess=\"\"\n",
        "\n",
        "while guess !=secret_word:\n",
        "  guess=input(\"ENTER THE WORD:\")\n",
        "\n",
        "print(\"you win!\")  "
      ],
      "metadata": {
        "colab": {
          "base_uri": "https://localhost:8080/"
        },
        "id": "VnYEX-3Lisk8",
        "outputId": "eb71e337-2731-4267-8eb6-f56f472f2d12"
      },
      "execution_count": null,
      "outputs": [
        {
          "output_type": "stream",
          "name": "stdout",
          "text": [
            "ENTER THE WORD:ghjk\n",
            "ENTER THE WORD:rohit\n",
            "you win!\n"
          ]
        }
      ]
    },
    {
      "cell_type": "code",
      "source": [
        "secret_word='coding'\n",
        "guess=''\n",
        "guess_count=0\n",
        "guess_limit=3\n",
        "out_of_guesses=False\n",
        "\n",
        "while guess!=secret_word and not(out_of_guesses):\n",
        "  if guess_count < guess_limit:\n",
        "    guess=input(\"ENTER THE GUESS:\")\n",
        "    guess_count+=1\n",
        "  else:\n",
        "    out_of_guesses=True\n",
        "\n",
        "if out_of_guesses:\n",
        "   print(\"Out of guesses , you lose !!\")\n",
        "else:\n",
        "  print(\"you win !\")  "
      ],
      "metadata": {
        "colab": {
          "base_uri": "https://localhost:8080/"
        },
        "id": "rOEcwwNalDGs",
        "outputId": "9628110b-224e-4438-b599-07dc5a689e8b"
      },
      "execution_count": null,
      "outputs": [
        {
          "output_type": "stream",
          "name": "stdout",
          "text": [
            "ENTER THE GUESS:os\n",
            "ENTER THE GUESS:coding\n",
            "you win !\n"
          ]
        }
      ]
    },
    {
      "cell_type": "markdown",
      "source": [
        "FOR LOOP"
      ],
      "metadata": {
        "id": "CLakdn6bntRo"
      }
    },
    {
      "cell_type": "code",
      "source": [
        "for i in range(5):\n",
        "  print(i)"
      ],
      "metadata": {
        "colab": {
          "base_uri": "https://localhost:8080/"
        },
        "id": "AOeaRNLSnvvp",
        "outputId": "c40021f2-1921-4d2f-d6dc-c39b9dd61e4c"
      },
      "execution_count": null,
      "outputs": [
        {
          "output_type": "stream",
          "name": "stdout",
          "text": [
            "0\n",
            "1\n",
            "2\n",
            "3\n",
            "4\n"
          ]
        }
      ]
    },
    {
      "cell_type": "code",
      "source": [
        "friends=[\"jim\",\"kop\",\"fod\"]\n",
        "for index in range(5):\n",
        "  if index==0:\n",
        "    print(\"first\")\n",
        "  else:\n",
        "    print(\"not fisrt\") "
      ],
      "metadata": {
        "colab": {
          "base_uri": "https://localhost:8080/"
        },
        "id": "HJEPcEkpoEPC",
        "outputId": "07dce398-a441-4d0e-f864-e5c283a8032c"
      },
      "execution_count": null,
      "outputs": [
        {
          "output_type": "stream",
          "name": "stdout",
          "text": [
            "first\n",
            "not fisrt\n",
            "not fisrt\n",
            "not fisrt\n",
            "not fisrt\n"
          ]
        }
      ]
    },
    {
      "cell_type": "markdown",
      "source": [
        "Exponent function"
      ],
      "metadata": {
        "id": "_ayewhBpxLfQ"
      }
    },
    {
      "cell_type": "code",
      "source": [
        "def raise_to_power(base_num,pow_num):\n",
        "  result = 1\n",
        "  for index in range(pow_num):\n",
        "    result= result * base_num\n",
        "  return result\n",
        "print(raise_to_power(3,2))    \n"
      ],
      "metadata": {
        "colab": {
          "base_uri": "https://localhost:8080/"
        },
        "id": "kXqYRsNAxOzk",
        "outputId": "13bdce43-5eb0-4fc8-e644-6a4d32af66ec"
      },
      "execution_count": null,
      "outputs": [
        {
          "output_type": "stream",
          "name": "stdout",
          "text": [
            "9\n"
          ]
        }
      ]
    },
    {
      "cell_type": "markdown",
      "source": [
        "2D Lists &  Nested Loops"
      ],
      "metadata": {
        "id": "KES14gj7zyag"
      }
    },
    {
      "cell_type": "code",
      "source": [
        "number_grid=[\n",
        "    [1,2,3],\n",
        "    [4,5,6],\n",
        "    [7,8,9],\n",
        "    [0]\n",
        "]\n",
        "\n",
        "print(number_grid)\n",
        "print(number_grid[0][0])\n",
        "print(number_grid[2][1])"
      ],
      "metadata": {
        "colab": {
          "base_uri": "https://localhost:8080/"
        },
        "id": "_RHVvhb7z2vw",
        "outputId": "285de19f-05b7-4b1f-c9eb-0a92b80f909d"
      },
      "execution_count": null,
      "outputs": [
        {
          "output_type": "stream",
          "name": "stdout",
          "text": [
            "[[1, 2, 3], [4, 5, 6], [7, 8, 9], [0]]\n",
            "1\n",
            "8\n"
          ]
        }
      ]
    },
    {
      "cell_type": "code",
      "source": [
        "number_grid=[\n",
        "    [1,2,3],\n",
        "    [4,5,6],\n",
        "    [7,8,9],\n",
        "    [0]\n",
        "]\n",
        "\n",
        "for row in number_grid:\n",
        "  for col in row:\n",
        "    print(col)"
      ],
      "metadata": {
        "colab": {
          "base_uri": "https://localhost:8080/"
        },
        "id": "kuvpBXe50799",
        "outputId": "7443cd4f-6180-4a50-f2e0-d271cb711504"
      },
      "execution_count": null,
      "outputs": [
        {
          "output_type": "stream",
          "name": "stdout",
          "text": [
            "1\n",
            "2\n",
            "3\n",
            "4\n",
            "5\n",
            "6\n",
            "7\n",
            "8\n",
            "9\n",
            "0\n"
          ]
        }
      ]
    },
    {
      "cell_type": "markdown",
      "source": [
        "Break statement"
      ],
      "metadata": {
        "id": "oXA930xA9Kiy"
      }
    },
    {
      "cell_type": "code",
      "source": [
        "i=1\n",
        "while i<6:\n",
        "    print(i)\n",
        "    if (i==3):\n",
        "        break\n",
        "    i+=1\n"
      ],
      "metadata": {
        "colab": {
          "base_uri": "https://localhost:8080/"
        },
        "id": "f6DV9SKg2W0i",
        "outputId": "744ac903-65c3-408a-8f9c-54a8ae388c5d"
      },
      "execution_count": null,
      "outputs": [
        {
          "output_type": "stream",
          "name": "stdout",
          "text": [
            "1\n",
            "2\n",
            "3\n"
          ]
        }
      ]
    },
    {
      "cell_type": "markdown",
      "source": [
        "continue statement"
      ],
      "metadata": {
        "id": "lfIpk6-b9Ozf"
      }
    },
    {
      "cell_type": "code",
      "source": [
        "i=0\n",
        "while i<6:\n",
        "    i+=1\n",
        "    if(i==3):\n",
        "        continue\n",
        "    print(i)\n",
        "    "
      ],
      "metadata": {
        "colab": {
          "base_uri": "https://localhost:8080/"
        },
        "id": "gvrbLjGw9Se0",
        "outputId": "6d512c21-c940-47bf-c25f-23a255b53c2e"
      },
      "execution_count": null,
      "outputs": [
        {
          "output_type": "stream",
          "name": "stdout",
          "text": [
            "1\n",
            "2\n",
            "4\n",
            "5\n",
            "6\n"
          ]
        }
      ]
    },
    {
      "cell_type": "code",
      "source": [
        "fruits= [\"mango\",\"apple\",\"banana\",\"orange\"]\n",
        "\n",
        "for x in fruits:\n",
        "    if x==\"banana\":\n",
        "        #break\n",
        "        continue\n",
        "    print(x)"
      ],
      "metadata": {
        "colab": {
          "base_uri": "https://localhost:8080/"
        },
        "id": "3pAf7TJbJ9hj",
        "outputId": "d365b1af-e38e-4e1d-dd2a-9e39b4fb2284"
      },
      "execution_count": null,
      "outputs": [
        {
          "output_type": "stream",
          "name": "stdout",
          "text": [
            "mango\n",
            "apple\n",
            "orange\n"
          ]
        }
      ]
    },
    {
      "cell_type": "code",
      "source": [
        "for x in range(6):\n",
        "    print(x)\n",
        "else:\n",
        "    print(\"finished\")    \n"
      ],
      "metadata": {
        "colab": {
          "base_uri": "https://localhost:8080/"
        },
        "id": "n1oO3sLLMuOT",
        "outputId": "a5d70cff-467e-4b73-f8a1-73834073cd1b"
      },
      "execution_count": null,
      "outputs": [
        {
          "output_type": "stream",
          "name": "stdout",
          "text": [
            "0\n",
            "1\n",
            "2\n",
            "3\n",
            "4\n",
            "5\n",
            "finished\n"
          ]
        }
      ]
    },
    {
      "cell_type": "code",
      "source": [
        "adj=[\"red\",\"big\",\"tasty\"]\n",
        "friuts=[\"apple\",\"banana\",\"cherry\"]\n",
        "\n",
        "for x in adj:\n",
        "    for y in friuts:\n",
        "        print(x,y)"
      ],
      "metadata": {
        "colab": {
          "base_uri": "https://localhost:8080/"
        },
        "id": "TbYrEoF8Mu7W",
        "outputId": "942244a3-02e7-4e9a-9bf6-b6d6df29f24c"
      },
      "execution_count": null,
      "outputs": [
        {
          "output_type": "stream",
          "name": "stdout",
          "text": [
            "red apple\n",
            "red banana\n",
            "red cherry\n",
            "big apple\n",
            "big banana\n",
            "big cherry\n",
            "tasty apple\n",
            "tasty banana\n",
            "tasty cherry\n"
          ]
        }
      ]
    },
    {
      "cell_type": "code",
      "source": [
        "for x in [0,1,2]:\n",
        "    pass"
      ],
      "metadata": {
        "id": "chcvX9dENdds"
      },
      "execution_count": null,
      "outputs": []
    },
    {
      "cell_type": "code",
      "source": [
        "#adding two numbers\n",
        "num1=int(input(\"Enter the num1:\" ))\n",
        "num2=int(input(\"Enter the num2:\" ))\n",
        "\n",
        "sum=num1 + num2\n",
        "\n",
        "print(\"Sum of {0} and {1} is {2}\" .format(num1, num2, sum))"
      ],
      "metadata": {
        "colab": {
          "base_uri": "https://localhost:8080/"
        },
        "id": "xUZiX-t2NkKy",
        "outputId": "46b701de-6761-4361-abe4-40eb85330d76"
      },
      "execution_count": null,
      "outputs": [
        {
          "output_type": "stream",
          "name": "stdout",
          "text": [
            "Enter the num1:10\n",
            "Enter the num2:15\n",
            "Sum of 10 and 15 is 25\n"
          ]
        }
      ]
    },
    {
      "cell_type": "code",
      "source": [
        "#adding two float values from user\n",
        "\n",
        "num1=input(\"Enter First number:\" )\n",
        "num2=input(\"Enter Second number:\" )\n",
        "\n",
        "sum = float(num1)+float(num2)\n",
        "\n",
        "print(\"sum of {0} and {1} is {2}\".format(num1,num2,sum))\n"
      ],
      "metadata": {
        "colab": {
          "base_uri": "https://localhost:8080/"
        },
        "id": "GF8f07mzNll-",
        "outputId": "5b5c0dd0-3df2-47aa-931d-8143765163cf"
      },
      "execution_count": null,
      "outputs": [
        {
          "output_type": "stream",
          "name": "stdout",
          "text": [
            "Enter First number:2.2\n",
            "Enter Second number:2.3\n",
            "sum of 2.2 and 2.3 is 4.5\n"
          ]
        }
      ]
    },
    {
      "cell_type": "code",
      "source": [
        "#program for simple interest\n",
        "\n",
        "P=int(input(\"Enter the principle amount:\"))\n",
        "T=int(input(\"Enter time: \"))\n",
        "R=int(input(\"Enter rate: \"))\n",
        "\n",
        "sp=(P*T*R)/100\n",
        "\n",
        "print(\"Simple Interset is :{0}\".format(sp))"
      ],
      "metadata": {
        "colab": {
          "base_uri": "https://localhost:8080/"
        },
        "id": "WtiX8a6fOdQ0",
        "outputId": "39ab44a5-ef3c-4726-d450-f11294276d76"
      },
      "execution_count": null,
      "outputs": [
        {
          "output_type": "stream",
          "name": "stdout",
          "text": [
            "Enter the principle amount:1000\n",
            "Enter time: 10\n",
            "Enter rate: 7\n",
            "Simple Interset is :700.0\n"
          ]
        }
      ]
    },
    {
      "cell_type": "code",
      "source": [
        "def simple_int(P,T,R):\n",
        "    print(\"The principle amount is\",P)\n",
        "    print(\"The time period is\",T)\n",
        "    print(\"the rate of interest is\",R)\n",
        "\n",
        "\n",
        "    si=(P*T*R)/100\n",
        "    print(\"The Simple Intrest is\",si)\n",
        "    \n",
        "    \n",
        "simple_int(10000,5,5)"
      ],
      "metadata": {
        "colab": {
          "base_uri": "https://localhost:8080/"
        },
        "id": "4TRWFQRLQFUo",
        "outputId": "7063511e-3f35-404e-9f2c-df233a11856e"
      },
      "execution_count": null,
      "outputs": [
        {
          "output_type": "stream",
          "name": "stdout",
          "text": [
            "The principle amount is 10000\n",
            "The time period is 5\n",
            "the rate of interest is 5\n",
            "The Simple Intrest is 2500.0\n"
          ]
        }
      ]
    },
    {
      "cell_type": "code",
      "source": [
        "def compound_interest(principle,time,rate):\n",
        "\n",
        "    amount=principle*(pow((1+rate/100),time))\n",
        "    ci=amount-principle\n",
        "    print(\"compound interest is\",ci)\n",
        "\n",
        "compound_interest(1200,2,5.4)    "
      ],
      "metadata": {
        "colab": {
          "base_uri": "https://localhost:8080/"
        },
        "id": "CI7oAz9iRnyi",
        "outputId": "108f3cee-c1c9-4623-8171-22efcd71a9b2"
      },
      "execution_count": null,
      "outputs": [
        {
          "output_type": "stream",
          "name": "stdout",
          "text": [
            "compound interest is 133.0992000000001\n"
          ]
        }
      ]
    },
    {
      "cell_type": "code",
      "source": [
        "def findarea(r):\n",
        "  pi=3.142\n",
        "  return pi*(r*r);\n",
        "\n",
        "print(\"area is %.6f\" % findarea(5))\n"
      ],
      "metadata": {
        "colab": {
          "base_uri": "https://localhost:8080/"
        },
        "id": "DVgk8yP6UG1l",
        "outputId": "f6831cf6-f325-4365-deba-9461739374eb"
      },
      "execution_count": null,
      "outputs": [
        {
          "output_type": "stream",
          "name": "stdout",
          "text": [
            "area is 78.550000\n"
          ]
        }
      ]
    },
    {
      "cell_type": "code",
      "source": [
        "#Prime number program\n",
        "num=8\n",
        "for i in range(2,num):\n",
        "  if num%i==0:\n",
        "    print(\"Its Not prime number\")\n",
        "    break\n",
        "else:\n",
        "    print(\"Its prime number\")  \n",
        "\n",
        "\n"
      ],
      "metadata": {
        "colab": {
          "base_uri": "https://localhost:8080/"
        },
        "id": "OgbauJzic8Xe",
        "outputId": "69a1c699-efd9-4c0e-ccfa-da26c8bbad37"
      },
      "execution_count": 1,
      "outputs": [
        {
          "output_type": "stream",
          "name": "stdout",
          "text": [
            "Its Not prime number\n"
          ]
        }
      ]
    },
    {
      "cell_type": "code",
      "source": [
        "#pattern digit printing\n",
        "\n",
        "def pattern(n):\n",
        "\n",
        "  for i in n:\n",
        "    print(\"|\",end=\"\")\n",
        "    print(\"*\" *int(i))\n",
        "\n",
        "n=\"12345\"\n",
        "pattern(n)"
      ],
      "metadata": {
        "colab": {
          "base_uri": "https://localhost:8080/"
        },
        "id": "YUElm3mbgxZy",
        "outputId": "224c1962-2259-4bf5-d265-c136aa28ac80"
      },
      "execution_count": 2,
      "outputs": [
        {
          "output_type": "stream",
          "name": "stdout",
          "text": [
            "|*\n",
            "|**\n",
            "|***\n",
            "|****\n",
            "|*****\n"
          ]
        }
      ]
    },
    {
      "cell_type": "code",
      "source": [],
      "metadata": {
        "id": "BU-Mo2lqjJrt"
      },
      "execution_count": null,
      "outputs": []
    }
  ]
}