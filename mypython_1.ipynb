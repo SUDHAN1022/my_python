{
  "nbformat": 4,
  "nbformat_minor": 0,
  "metadata": {
    "colab": {
      "provenance": [],
      "authorship_tag": "ABX9TyPhpJJ3qAoDgQ9WDnSboHmT",
      "include_colab_link": true
    },
    "kernelspec": {
      "name": "python3",
      "display_name": "Python 3"
    },
    "language_info": {
      "name": "python"
    }
  },
  "cells": [
    {
      "cell_type": "markdown",
      "metadata": {
        "id": "view-in-github",
        "colab_type": "text"
      },
      "source": [
        "<a href=\"https://colab.research.google.com/github/SUDHAN1022/my_python/blob/main/mypython_1.ipynb\" target=\"_parent\"><img src=\"https://colab.research.google.com/assets/colab-badge.svg\" alt=\"Open In Colab\"/></a>"
      ]
    },
    {
      "cell_type": "code",
      "execution_count": null,
      "metadata": {
        "colab": {
          "base_uri": "https://localhost:8080/"
        },
        "id": "Sjql-sB1CHP_",
        "outputId": "e95b9674-c004-4aec-cb90-24186544a05d"
      },
      "outputs": [
        {
          "output_type": "stream",
          "name": "stdout",
          "text": [
            "[10, 20, 22, 30, 40, 50]\n"
          ]
        }
      ],
      "source": [
        "num=[10,20,30,40,50]\n",
        "num.insert(2,22)\n",
        "print(num)\n"
      ]
    },
    {
      "cell_type": "code",
      "source": [
        "print(num)"
      ],
      "metadata": {
        "colab": {
          "base_uri": "https://localhost:8080/"
        },
        "id": "uIMYwtt-tRoh",
        "outputId": "8fa8bd94-9a5b-477b-b56a-6aa99cc13424"
      },
      "execution_count": null,
      "outputs": [
        {
          "output_type": "stream",
          "name": "stdout",
          "text": [
            "[10, 20, 22, 30, 40, 50]\n"
          ]
        }
      ]
    },
    {
      "cell_type": "code",
      "source": [
        "num=[10,3,24,5]\n",
        "n=sorted(num)\n",
        "print(n)"
      ],
      "metadata": {
        "colab": {
          "base_uri": "https://localhost:8080/"
        },
        "id": "xpQ9Z-VStT9Q",
        "outputId": "266e7806-b845-4d3f-b136-66f4f09880f4"
      },
      "execution_count": null,
      "outputs": [
        {
          "output_type": "stream",
          "name": "stdout",
          "text": [
            "[3, 5, 10, 24]\n"
          ]
        }
      ]
    },
    {
      "cell_type": "code",
      "source": [
        "a=range(8,1,-1)\n",
        "b=list(a)\n",
        "print(b)"
      ],
      "metadata": {
        "colab": {
          "base_uri": "https://localhost:8080/"
        },
        "id": "DVozsEvGuvm3",
        "outputId": "d73cc18e-141a-49b0-acc5-35aab03b5a91"
      },
      "execution_count": null,
      "outputs": [
        {
          "output_type": "stream",
          "name": "stdout",
          "text": [
            "[8, 7, 6, 5, 4, 3, 2]\n"
          ]
        }
      ]
    },
    {
      "cell_type": "code",
      "source": [
        "myDict={1:'word1',2:'word2'}\n",
        "x=myDict.keys()\n",
        "print(x)"
      ],
      "metadata": {
        "colab": {
          "base_uri": "https://localhost:8080/"
        },
        "id": "xnnjyNy3xKiZ",
        "outputId": "b1c5866f-6773-4c00-c309-4c10fde3e949"
      },
      "execution_count": null,
      "outputs": [
        {
          "output_type": "stream",
          "name": "stdout",
          "text": [
            "dict_keys([1, 2])\n"
          ]
        }
      ]
    },
    {
      "cell_type": "markdown",
      "source": [
        "condition statemets"
      ],
      "metadata": {
        "id": "CxEQ9ZNn4WXD"
      }
    },
    {
      "cell_type": "code",
      "source": [
        "a=3\n",
        "b=5\n",
        "c=2\n",
        "if a>b or b>a:\n",
        "  print(\"one cond is false\")"
      ],
      "metadata": {
        "colab": {
          "base_uri": "https://localhost:8080/"
        },
        "id": "ebH2Lixv4aM_",
        "outputId": "810e8744-b033-48a3-aed9-89cfcd413fd5"
      },
      "execution_count": null,
      "outputs": [
        {
          "output_type": "stream",
          "name": "stdout",
          "text": [
            "one cond is false\n"
          ]
        }
      ]
    },
    {
      "cell_type": "markdown",
      "source": [
        "nested if\n"
      ],
      "metadata": {
        "id": "yQZv1xxv6XeT"
      }
    },
    {
      "cell_type": "code",
      "source": [
        "x=int(input(\"Enter the x value:\"))\n",
        "if x > 10:\n",
        "  print(\"above 10\")\n",
        "  if x >20:\n",
        "    print(\"also above 20\")\n",
        "  else:\n",
        "    print(\"not above 20\")\n"
      ],
      "metadata": {
        "colab": {
          "base_uri": "https://localhost:8080/"
        },
        "id": "VkJnf0B56Zx-",
        "outputId": "636e3ba9-18ae-4ebd-d3a5-251579d64aa8"
      },
      "execution_count": null,
      "outputs": [
        {
          "output_type": "stream",
          "name": "stdout",
          "text": [
            "Enter the x value:30\n",
            "above 10\n",
            "also above 20\n"
          ]
        }
      ]
    },
    {
      "cell_type": "code",
      "source": [
        "countodd=0\n",
        "counteven=0\n",
        "for i in range(1,11):\n",
        "    if (i%2!=0):\n",
        "        countodd=countodd+1\n",
        "    elif (i%2==0):\n",
        "        counteven=counteven+1\n",
        "print(\"odd:\",countodd)\n",
        "print(\"even:\",counteven)"
      ],
      "metadata": {
        "id": "BVMmICeO7fIz"
      },
      "execution_count": null,
      "outputs": []
    },
    {
      "cell_type": "code",
      "source": [
        "count=0\n",
        "for i in range(1,101):\n",
        "    if (i%3==0 and i%5==0):\n",
        "        count=count+1\n",
        "print(count)\n"
      ],
      "metadata": {
        "id": "6iB_a9cF1FRf"
      },
      "execution_count": null,
      "outputs": []
    },
    {
      "cell_type": "code",
      "source": [
        "sum=0\n",
        "for i in range(1,6):\n",
        "    sum=sum+i\n",
        "\n",
        "print(sum)"
      ],
      "metadata": {
        "id": "BXll2DZT26nj"
      },
      "execution_count": null,
      "outputs": []
    },
    {
      "cell_type": "code",
      "source": [
        "a=[]\n",
        "print(\"Enter 10 numbers\")\n",
        "for i in range(5):\n",
        "    b=int(input(\"Enter value\"+str(i+1)))\n",
        "    a.append(b)\n",
        "\n",
        "print(a)\n",
        "\n",
        "sum=0\n",
        "for i in a:\n",
        "    sum=sum+i\n",
        "print(sum)\n",
        "\n",
        "average=sum/5\n",
        "print(average)"
      ],
      "metadata": {
        "id": "0kVRzpT85CHF"
      },
      "execution_count": null,
      "outputs": []
    },
    {
      "cell_type": "code",
      "source": [
        "a=int(input(\"Enter n term:\"))\n",
        "sum=0\n",
        "for i in range(a+1):\n",
        "    sum=sum+i\n",
        "print(sum)"
      ],
      "metadata": {
        "id": "nRTUO09r-sOW"
      },
      "execution_count": null,
      "outputs": []
    },
    {
      "cell_type": "code",
      "source": [
        "a=int(input(\"Enter number of integer:\"))\n",
        "for i in range(1,a+1):\n",
        "    print(i,\"and cube of the \"+str(i)+\" is:\",i*i*i)"
      ],
      "metadata": {
        "id": "hH_3JKhEAKpC"
      },
      "execution_count": null,
      "outputs": []
    },
    {
      "cell_type": "code",
      "source": [
        "for i in range(1,3):\n",
        "    print(\"Week:\",i)\n",
        "\n",
        "    for j in range(1,3+1):\n",
        "        print(\"Day:\",j)\n",
        "    print(\"**** ** ****\")\n",
        "print(\"**** ** ****\")"
      ],
      "metadata": {
        "id": "R7ohBuOCL00i"
      },
      "execution_count": null,
      "outputs": []
    },
    {
      "cell_type": "code",
      "source": [
        "for i in range(1,5):\n",
        "    print()\n",
        "    for j in range(1,i+1):\n",
        "        print(j,end=\"\")"
      ],
      "metadata": {
        "id": "udB1oZjjPq2R"
      },
      "execution_count": null,
      "outputs": []
    }
  ]
}