{
  "nbformat": 4,
  "nbformat_minor": 0,
  "metadata": {
    "colab": {
      "provenance": [],
      "authorship_tag": "ABX9TyMAc6G1svLHUkuZFWskntFV",
      "include_colab_link": true
    },
    "kernelspec": {
      "name": "python3",
      "display_name": "Python 3"
    },
    "language_info": {
      "name": "python"
    }
  },
  "cells": [
    {
      "cell_type": "markdown",
      "metadata": {
        "id": "view-in-github",
        "colab_type": "text"
      },
      "source": [
        "<a href=\"https://colab.research.google.com/github/SUDHAN1022/my_python/blob/main/mypython_1.ipynb\" target=\"_parent\"><img src=\"https://colab.research.google.com/assets/colab-badge.svg\" alt=\"Open In Colab\"/></a>"
      ]
    },
    {
      "cell_type": "code",
      "execution_count": 16,
      "metadata": {
        "colab": {
          "base_uri": "https://localhost:8080/"
        },
        "id": "Sjql-sB1CHP_",
        "outputId": "e95b9674-c004-4aec-cb90-24186544a05d"
      },
      "outputs": [
        {
          "output_type": "stream",
          "name": "stdout",
          "text": [
            "[10, 20, 22, 30, 40, 50]\n"
          ]
        }
      ],
      "source": [
        "num=[10,20,30,40,50]\n",
        "num.insert(2,22)\n",
        "print(num)\n"
      ]
    },
    {
      "cell_type": "code",
      "source": [
        "print(num)"
      ],
      "metadata": {
        "colab": {
          "base_uri": "https://localhost:8080/"
        },
        "id": "uIMYwtt-tRoh",
        "outputId": "8fa8bd94-9a5b-477b-b56a-6aa99cc13424"
      },
      "execution_count": 17,
      "outputs": [
        {
          "output_type": "stream",
          "name": "stdout",
          "text": [
            "[10, 20, 22, 30, 40, 50]\n"
          ]
        }
      ]
    },
    {
      "cell_type": "code",
      "source": [
        "num=[10,3,24,5]\n",
        "n=sorted(num)\n",
        "print(n)"
      ],
      "metadata": {
        "colab": {
          "base_uri": "https://localhost:8080/"
        },
        "id": "xpQ9Z-VStT9Q",
        "outputId": "266e7806-b845-4d3f-b136-66f4f09880f4"
      },
      "execution_count": 31,
      "outputs": [
        {
          "output_type": "stream",
          "name": "stdout",
          "text": [
            "[3, 5, 10, 24]\n"
          ]
        }
      ]
    },
    {
      "cell_type": "code",
      "source": [
        "a=range(8,1,-1)\n",
        "b=list(a)\n",
        "print(b)"
      ],
      "metadata": {
        "colab": {
          "base_uri": "https://localhost:8080/"
        },
        "id": "DVozsEvGuvm3",
        "outputId": "d73cc18e-141a-49b0-acc5-35aab03b5a91"
      },
      "execution_count": 37,
      "outputs": [
        {
          "output_type": "stream",
          "name": "stdout",
          "text": [
            "[8, 7, 6, 5, 4, 3, 2]\n"
          ]
        }
      ]
    },
    {
      "cell_type": "code",
      "source": [
        "myDict={1:'word1',2:'word2'}\n",
        "x=myDict.keys()\n",
        "print(x)"
      ],
      "metadata": {
        "colab": {
          "base_uri": "https://localhost:8080/"
        },
        "id": "xnnjyNy3xKiZ",
        "outputId": "b1c5866f-6773-4c00-c309-4c10fde3e949"
      },
      "execution_count": 38,
      "outputs": [
        {
          "output_type": "stream",
          "name": "stdout",
          "text": [
            "dict_keys([1, 2])\n"
          ]
        }
      ]
    },
    {
      "cell_type": "markdown",
      "source": [
        "condition statemets"
      ],
      "metadata": {
        "id": "CxEQ9ZNn4WXD"
      }
    },
    {
      "cell_type": "code",
      "source": [
        "a=3\n",
        "b=5\n",
        "c=2\n",
        "if a>b or b>a:\n",
        "  print(\"one cond is false\")"
      ],
      "metadata": {
        "colab": {
          "base_uri": "https://localhost:8080/"
        },
        "id": "ebH2Lixv4aM_",
        "outputId": "810e8744-b033-48a3-aed9-89cfcd413fd5"
      },
      "execution_count": 49,
      "outputs": [
        {
          "output_type": "stream",
          "name": "stdout",
          "text": [
            "one cond is false\n"
          ]
        }
      ]
    },
    {
      "cell_type": "markdown",
      "source": [
        "nested if\n"
      ],
      "metadata": {
        "id": "yQZv1xxv6XeT"
      }
    },
    {
      "cell_type": "code",
      "source": [
        "x=int(input(\"Enter the x value:\"))\n",
        "if x > 10:\n",
        "  print(\"above 10\")\n",
        "  if x >20:\n",
        "    print(\"also above 20\")\n",
        "  else:\n",
        "    print(\"not above 20\")\n"
      ],
      "metadata": {
        "colab": {
          "base_uri": "https://localhost:8080/"
        },
        "id": "VkJnf0B56Zx-",
        "outputId": "636e3ba9-18ae-4ebd-d3a5-251579d64aa8"
      },
      "execution_count": 53,
      "outputs": [
        {
          "output_type": "stream",
          "name": "stdout",
          "text": [
            "Enter the x value:30\n",
            "above 10\n",
            "also above 20\n"
          ]
        }
      ]
    },
    {
      "cell_type": "code",
      "source": [
        "a=33\n",
        "b=200\n",
        "\n",
        "if b>a:\n",
        "  pass"
      ],
      "metadata": {
        "id": "BVMmICeO7fIz"
      },
      "execution_count": 54,
      "outputs": []
    }
  ]
}