{
  "nbformat": 4,
  "nbformat_minor": 0,
  "metadata": {
    "colab": {
      "provenance": [],
      "authorship_tag": "ABX9TyMvDj4AE5aj1/wgkhB8UL/G",
      "include_colab_link": true
    },
    "kernelspec": {
      "name": "python3",
      "display_name": "Python 3"
    },
    "language_info": {
      "name": "python"
    }
  },
  "cells": [
    {
      "cell_type": "markdown",
      "metadata": {
        "id": "view-in-github",
        "colab_type": "text"
      },
      "source": [
        "<a href=\"https://colab.research.google.com/github/SUDHAN1022/my_python/blob/main/mypython_1.ipynb\" target=\"_parent\"><img src=\"https://colab.research.google.com/assets/colab-badge.svg\" alt=\"Open In Colab\"/></a>"
      ]
    },
    {
      "cell_type": "code",
      "execution_count": null,
      "metadata": {
        "colab": {
          "base_uri": "https://localhost:8080/"
        },
        "id": "Sjql-sB1CHP_",
        "outputId": "e95b9674-c004-4aec-cb90-24186544a05d"
      },
      "outputs": [
        {
          "output_type": "stream",
          "name": "stdout",
          "text": [
            "[10, 20, 22, 30, 40, 50]\n"
          ]
        }
      ],
      "source": [
        "num=[10,20,30,40,50]\n",
        "num.insert(2,22)\n",
        "print(num)\n"
      ]
    },
    {
      "cell_type": "code",
      "source": [
        "print(num)"
      ],
      "metadata": {
        "colab": {
          "base_uri": "https://localhost:8080/"
        },
        "id": "uIMYwtt-tRoh",
        "outputId": "8fa8bd94-9a5b-477b-b56a-6aa99cc13424"
      },
      "execution_count": null,
      "outputs": [
        {
          "output_type": "stream",
          "name": "stdout",
          "text": [
            "[10, 20, 22, 30, 40, 50]\n"
          ]
        }
      ]
    },
    {
      "cell_type": "code",
      "source": [
        "num=[10,3,24,5]\n",
        "n=sorted(num)\n",
        "print(n)"
      ],
      "metadata": {
        "colab": {
          "base_uri": "https://localhost:8080/"
        },
        "id": "xpQ9Z-VStT9Q",
        "outputId": "266e7806-b845-4d3f-b136-66f4f09880f4"
      },
      "execution_count": null,
      "outputs": [
        {
          "output_type": "stream",
          "name": "stdout",
          "text": [
            "[3, 5, 10, 24]\n"
          ]
        }
      ]
    },
    {
      "cell_type": "code",
      "source": [
        "a=range(8,1,-1)\n",
        "b=list(a)\n",
        "print(b)"
      ],
      "metadata": {
        "colab": {
          "base_uri": "https://localhost:8080/"
        },
        "id": "DVozsEvGuvm3",
        "outputId": "d73cc18e-141a-49b0-acc5-35aab03b5a91"
      },
      "execution_count": null,
      "outputs": [
        {
          "output_type": "stream",
          "name": "stdout",
          "text": [
            "[8, 7, 6, 5, 4, 3, 2]\n"
          ]
        }
      ]
    },
    {
      "cell_type": "code",
      "source": [
        "myDict={1:'word1',2:'word2'}\n",
        "x=myDict.keys()\n",
        "print(x)"
      ],
      "metadata": {
        "colab": {
          "base_uri": "https://localhost:8080/"
        },
        "id": "xnnjyNy3xKiZ",
        "outputId": "b1c5866f-6773-4c00-c309-4c10fde3e949"
      },
      "execution_count": null,
      "outputs": [
        {
          "output_type": "stream",
          "name": "stdout",
          "text": [
            "dict_keys([1, 2])\n"
          ]
        }
      ]
    },
    {
      "cell_type": "markdown",
      "source": [
        "condition statemets"
      ],
      "metadata": {
        "id": "CxEQ9ZNn4WXD"
      }
    },
    {
      "cell_type": "code",
      "source": [
        "a=3\n",
        "b=5\n",
        "c=2\n",
        "if a>b or b>a:\n",
        "  print(\"one cond is false\")"
      ],
      "metadata": {
        "colab": {
          "base_uri": "https://localhost:8080/"
        },
        "id": "ebH2Lixv4aM_",
        "outputId": "810e8744-b033-48a3-aed9-89cfcd413fd5"
      },
      "execution_count": null,
      "outputs": [
        {
          "output_type": "stream",
          "name": "stdout",
          "text": [
            "one cond is false\n"
          ]
        }
      ]
    },
    {
      "cell_type": "markdown",
      "source": [
        "nested if\n"
      ],
      "metadata": {
        "id": "yQZv1xxv6XeT"
      }
    },
    {
      "cell_type": "code",
      "source": [
        "x=int(input(\"Enter the x value:\"))\n",
        "if x > 10:\n",
        "  print(\"above 10\")\n",
        "  if x >20:\n",
        "    print(\"also above 20\")\n",
        "  else:\n",
        "    print(\"not above 20\")\n"
      ],
      "metadata": {
        "colab": {
          "base_uri": "https://localhost:8080/"
        },
        "id": "VkJnf0B56Zx-",
        "outputId": "636e3ba9-18ae-4ebd-d3a5-251579d64aa8"
      },
      "execution_count": null,
      "outputs": [
        {
          "output_type": "stream",
          "name": "stdout",
          "text": [
            "Enter the x value:30\n",
            "above 10\n",
            "also above 20\n"
          ]
        }
      ]
    },
    {
      "cell_type": "code",
      "source": [
        "countodd=0\n",
        "counteven=0\n",
        "for i in range(1,11):\n",
        "    if (i%2!=0):\n",
        "        countodd=countodd+1\n",
        "    elif (i%2==0):\n",
        "        counteven=counteven+1\n",
        "print(\"odd:\",countodd)\n",
        "print(\"even:\",counteven)"
      ],
      "metadata": {
        "id": "BVMmICeO7fIz"
      },
      "execution_count": null,
      "outputs": []
    },
    {
      "cell_type": "code",
      "source": [
        "count=0\n",
        "for i in range(1,101):\n",
        "    if (i%3==0 and i%5==0):\n",
        "        count=count+1\n",
        "print(count)\n"
      ],
      "metadata": {
        "id": "6iB_a9cF1FRf"
      },
      "execution_count": null,
      "outputs": []
    },
    {
      "cell_type": "code",
      "source": [
        "sum=0\n",
        "for i in range(1,6):\n",
        "    sum=sum+i\n",
        "\n",
        "print(sum)"
      ],
      "metadata": {
        "id": "BXll2DZT26nj"
      },
      "execution_count": null,
      "outputs": []
    },
    {
      "cell_type": "code",
      "source": [
        "a=[]\n",
        "print(\"Enter 10 numbers\")\n",
        "for i in range(5):\n",
        "    b=int(input(\"Enter value\"+str(i+1)))\n",
        "    a.append(b)\n",
        "\n",
        "print(a)\n",
        "\n",
        "sum=0\n",
        "for i in a:\n",
        "    sum=sum+i\n",
        "print(sum)\n",
        "\n",
        "average=sum/5\n",
        "print(average)"
      ],
      "metadata": {
        "id": "0kVRzpT85CHF"
      },
      "execution_count": null,
      "outputs": []
    },
    {
      "cell_type": "code",
      "source": [
        "a=int(input(\"Enter n term:\"))\n",
        "sum=0\n",
        "for i in range(a+1):\n",
        "    sum=sum+i\n",
        "print(sum)"
      ],
      "metadata": {
        "id": "nRTUO09r-sOW"
      },
      "execution_count": null,
      "outputs": []
    },
    {
      "cell_type": "code",
      "source": [
        "a=int(input(\"Enter number of integer:\"))\n",
        "for i in range(1,a+1):\n",
        "    print(i,\"and cube of the \"+str(i)+\" is:\",i*i*i)"
      ],
      "metadata": {
        "id": "hH_3JKhEAKpC"
      },
      "execution_count": null,
      "outputs": []
    },
    {
      "cell_type": "code",
      "source": [
        "for i in range(1,3):\n",
        "    print(\"Week:\",i)\n",
        "\n",
        "    for j in range(1,3+1):\n",
        "        print(\"Day:\",j)\n",
        "    print(\"**** ** ****\")\n",
        "print(\"**** ** ****\")"
      ],
      "metadata": {
        "id": "R7ohBuOCL00i"
      },
      "execution_count": null,
      "outputs": []
    },
    {
      "cell_type": "code",
      "source": [
        "for i in range(1,5):\n",
        "    print()\n",
        "    for j in range(1,i+1):\n",
        "        print(j,end=\"\")"
      ],
      "metadata": {
        "id": "udB1oZjjPq2R"
      },
      "execution_count": null,
      "outputs": []
    },
    {
      "cell_type": "code",
      "source": [
        "i=10\n",
        "while (i<=200):\n",
        "    print(i,end=\",\")\n",
        "    i=i+10"
      ],
      "metadata": {
        "id": "2mTAr71zHAvv"
      },
      "execution_count": null,
      "outputs": []
    },
    {
      "cell_type": "code",
      "source": [
        "i=10\n",
        "while (i>0):\n",
        "    print(i)\n",
        "    i=i-1"
      ],
      "metadata": {
        "id": "HmIJvUXCHBsj"
      },
      "execution_count": null,
      "outputs": []
    },
    {
      "cell_type": "code",
      "source": [
        "i=3\n",
        "fact=1\n",
        "while (i>0):\n",
        "    fact=fact*i\n",
        "    i=i-1\n",
        "print(fact)"
      ],
      "metadata": {
        "id": "maWrwddYJ7cz"
      },
      "execution_count": null,
      "outputs": []
    },
    {
      "cell_type": "code",
      "source": [
        "a={\"name\":\"ksr\",\n",
        "   \"age\":\"2\",\n",
        "    \"location\":\"chennai\",\n",
        "    \"sport\":[\"cric\",\"foot\"]\n",
        "    }\n",
        "a.clear()\n",
        "print(a)"
      ],
      "metadata": {
        "id": "mtiNq0ONNOAA"
      },
      "execution_count": null,
      "outputs": []
    },
    {
      "cell_type": "code",
      "source": [
        "def add():\n",
        "    print(\"Addition\")\n",
        "    a=int(input(\"Enter A:\"))\n",
        "    b=int(input(\"Enter B:\"))\n",
        "    print(a+b)\n",
        "\n",
        "def sub():\n",
        "    print(\"subraction\")\n",
        "    a=int(input(\"Enter A:\"))\n",
        "    b=int(input(\"Enter B:\"))\n",
        "    print(a-b)\n",
        "\n",
        "def mul():\n",
        "    print(\"multiplication\")\n",
        "    a=int(input(\"Enter A:\"))\n",
        "    b=int(input(\"Enter B:\"))\n",
        "    print(a*b)\n",
        "\n",
        "def div():\n",
        "    print(\"division\")\n",
        "    a=int(input(\"Enter A:\"))\n",
        "    b=int(input(\"Enter B:\"))\n",
        "    print(a/b)\n",
        "\n",
        "\n",
        "add()\n",
        "sub()\n",
        "mul()\n",
        "div()"
      ],
      "metadata": {
        "id": "qRn2C06q5A3O"
      },
      "execution_count": null,
      "outputs": []
    },
    {
      "cell_type": "code",
      "source": [
        "def findevenorodd(num):\n",
        "    if (num%2==0):\n",
        "        print(\"even\")\n",
        "    else:\n",
        "        print(\"odd\")\n",
        "num=int(input(\"Enter the num:\"))\n",
        "findevenorodd(num)"
      ],
      "metadata": {
        "id": "ZEC3p8gA8QG5"
      },
      "execution_count": null,
      "outputs": []
    },
    {
      "cell_type": "code",
      "source": [
        "\n",
        "def findpassorfail(num):\n",
        "    if (num>=35):\n",
        "        print(\"pass\")\n",
        "    else:\n",
        "        print(\"Fail\")\n",
        "num=int(input(\"Enter the num:\"))\n",
        "findpassorfail(num)"
      ],
      "metadata": {
        "id": "Ar6FU8KdABkj"
      },
      "execution_count": null,
      "outputs": []
    },
    {
      "cell_type": "code",
      "source": [
        "def printrange(a,b):\n",
        "    for i in range(a,b):\n",
        "        print(i)\n",
        "\n",
        "a=int(input(\"Enter A:\"))\n",
        "b=int(input(\"Enter B:\"))\n",
        "\n",
        "printrange(a,b)"
      ],
      "metadata": {
        "id": "VNPsA42qBYKV"
      },
      "execution_count": null,
      "outputs": []
    },
    {
      "cell_type": "code",
      "source": [
        "s_username=\"emc\"\n",
        "s_password=\"123\"\n",
        "\n",
        "uname=input(\"Enter user name:\")\n",
        "password=input(\"Enter password:\")\n",
        "\n",
        "def validate():\n",
        "    if (s_username==uname and s_password==password):\n",
        "        return True\n",
        "    else:\n",
        "        return False\n",
        "\n",
        "\n",
        "a =validate()\n",
        "\n",
        "print(a)"
      ],
      "metadata": {
        "id": "ztvxYvKnCq5Y"
      },
      "execution_count": null,
      "outputs": []
    },
    {
      "cell_type": "code",
      "source": [
        "a=(int(input(\"Enter A value:\")))\n",
        "b=(int(input(\"Enter B value:\")))\n",
        "\n",
        "def add():\n",
        "    sum=a+b\n",
        "    return sum\n",
        "\n",
        "d=add()\n",
        "\n",
        "print(\"A+B=\",d)\n",
        "\n",
        "c=(int(input(\"Enter C value:\")))\n",
        "\n",
        "result=d*c\n",
        "\n",
        "print(\"result of (a+b)*C:\",result)\n",
        "\n",
        "\n",
        "\n"
      ],
      "metadata": {
        "id": "6Z6_61V1JF_s"
      },
      "execution_count": null,
      "outputs": []
    },
    {
      "cell_type": "code",
      "source": [
        "def add(n1,n2):\n",
        "    return n1+n2\n",
        "\n",
        "a=int(input(\"a:\"))\n",
        "b=int(input(\"b:\"))\n",
        "c=int(input(\"c:\"))\n",
        "\n",
        "added=add(a,b)\n",
        "\n",
        "output=added*c\n",
        "\n",
        "print(output)"
      ],
      "metadata": {
        "id": "lrSA7ZkqLU_J"
      },
      "execution_count": null,
      "outputs": []
    },
    {
      "cell_type": "code",
      "source": [
        "class goa:\n",
        "    name=\"\"\n",
        "    drink=\"\"\n",
        "    def party(self):\n",
        "        print(\"lets party.....\")\n",
        "    def beach(self):\n",
        "        print(\"Lets go beach...\")\n",
        "\n",
        "ramesh=goa()\n",
        "suresh=goa()\n",
        "\n",
        "\n",
        "ramesh.name=\"Ramesh\"\n",
        "suresh.name=\"Suresh\"\n",
        "\n",
        "ramesh.drink=\"Yes\"\n",
        "suresh.drink=\"No\"\n",
        "\n",
        "ramesh.party()\n",
        "suresh.beach()\n",
        "print(ramesh.name)\n",
        "print(\"DRINK\",ramesh.drink)\n",
        "print(suresh.name)\n",
        "print(\"DRINK\",suresh.drink)\n",
        "\n"
      ],
      "metadata": {
        "id": "-Ok8lTyMMF3r"
      },
      "execution_count": null,
      "outputs": []
    },
    {
      "cell_type": "code",
      "source": [
        "class laptop:\n",
        "    price=\"\"\n",
        "    proc=\"\"\n",
        "    ram=\"\"\n",
        "\n",
        "hp=laptop()\n",
        "dell=laptop()\n",
        "\n",
        "hp.price=50000\n",
        "hp.proc=\"i5\"\n",
        "hp.ram=\"8gb\"\n",
        "\n",
        "dell.price=40000\n",
        "dell.proc=\"i3\"\n",
        "dell.ram=\"4gb\"\n",
        "\n",
        "print(hp.price)\n",
        "print(dell.price)"
      ],
      "metadata": {
        "id": "iRVVyTBPSdR_"
      },
      "execution_count": null,
      "outputs": []
    },
    {
      "cell_type": "code",
      "source": [
        "class laptop:\n",
        "    def __init__(self):\n",
        "        self.price=0\n",
        "        self.proc=\"\"\n",
        "        self.ram=\"\"\n",
        "    def display(self):\n",
        "        print(\"Display\")\n",
        "\n",
        "hp=laptop()\n",
        "hp.price=40000\n",
        "hp.proc=\"i5\"\n",
        "hp.ram=\"8gb\"\n",
        "print(hp.ram)"
      ],
      "metadata": {
        "id": "-6qEMKTXfm4V"
      },
      "execution_count": null,
      "outputs": []
    },
    {
      "cell_type": "code",
      "source": [
        "class laptop:\n",
        "    def __init__(self):\n",
        "        self.ram=\"\"\n",
        "        self.price=\"\"\n",
        "    def display(self):\n",
        "        print(\"ram:\",self.ram)\n",
        "        print(\"price:\",self.price)\n",
        "\n",
        "dell=laptop()\n",
        "hp=laptop()\n",
        "\n",
        "dell.price=50000\n",
        "dell.ram=\"8gb\"\n",
        "hp.price=25000\n",
        "hp.ram=\"6gb\"\n",
        "\n",
        "hp.display()\n"
      ],
      "metadata": {
        "id": "dk6NaXNclv0l"
      },
      "execution_count": null,
      "outputs": []
    },
    {
      "cell_type": "code",
      "source": [
        "class student:\n",
        "    def __init__(self):\n",
        "        self.name=\"\"\n",
        "        self.reg_no=\"\"\n",
        "\n",
        "    def display(self):\n",
        "        print(\"name:\",self.name)\n",
        "        print(\"reg_no:\",self.reg_no)\n",
        "\n",
        "s1=student()\n",
        "s2=student()\n",
        "s1.name=\"rohit\"\n",
        "s1.reg_no=45\n",
        "s2.name=\"virat\"\n",
        "s2.reg_no=18\n",
        "\n",
        "\n",
        "s1.display()\n",
        "s2.display()\n"
      ],
      "metadata": {
        "id": "SvjTYru1x6Sp"
      },
      "execution_count": null,
      "outputs": []
    },
    {
      "cell_type": "code",
      "source": [
        "class fruit:\n",
        "    def __init__(self,col):\n",
        "        self.colour=col\n",
        "\n",
        "apple=fruit(\"red\")\n",
        "print(apple.colour)"
      ],
      "metadata": {
        "id": "Y8oMZnOex6_3"
      },
      "execution_count": null,
      "outputs": []
    },
    {
      "cell_type": "code",
      "source": [
        "class teacher:\n",
        "    def __init__(self,name,reg) -> None:\n",
        "        self.name=name\n",
        "        self.regno=reg\n",
        "\n",
        "    def display(self):\n",
        "        print(\"Name:\",self.name)\n",
        "        print(\"Reg_no:\",self.regno)\n",
        "\n",
        "t1=teacher(\"Anu\",23)\n",
        "t2=teacher(\"sona\",20)\n",
        "\n",
        "t1.display()\n",
        "t2.display()"
      ],
      "metadata": {
        "id": "34WT6ua90iLF"
      },
      "execution_count": null,
      "outputs": []
    },
    {
      "cell_type": "code",
      "source": [
        "class calculator:\n",
        "    def __init__(self,num1,num2):\n",
        "        self.a=num1\n",
        "        self.b=num2\n",
        "\n",
        "    def add(self):\n",
        "        print(\"A:\",self.a)\n",
        "        print(\"B:\",self.b)\n",
        "        print(\"add:\",int(self.a)+int(self.b))\n",
        "\n",
        "    def sub(self):\n",
        "        print(\"A:\",self.a)\n",
        "        print(\"B:\",self.b)\n",
        "        print(\"sub:\",int(self.a)-int(self.b))\n",
        "\n",
        "    def mul(self):\n",
        "        print(\"A:\",self.a)\n",
        "        print(\"B:\",self.b)\n",
        "        print(\"mul:\",int(self.a)*int(self.b))\n",
        "\n",
        "    def div(self):\n",
        "        print(\"A:\",self.a)\n",
        "        print(\"B:\",self.b)\n",
        "        print(\"div:\",int(self.a)/int(self.b))\n",
        "\n",
        "\n",
        "\n",
        "value=calculator(\"4\",\"8\")\n",
        "\n",
        "value.add()\n",
        "value.sub()\n",
        "value.mul()\n",
        "value.div()\n",
        "\n"
      ],
      "metadata": {
        "colab": {
          "base_uri": "https://localhost:8080/"
        },
        "id": "sukXWHtK6cAI",
        "outputId": "61b88a52-4799-450d-a3a3-f2c0a52fb414"
      },
      "execution_count": null,
      "outputs": [
        {
          "output_type": "stream",
          "name": "stdout",
          "text": [
            "A: 4\n",
            "B: 8\n",
            "add: 12\n",
            "A: 4\n",
            "B: 8\n",
            "sub: -4\n",
            "A: 4\n",
            "B: 8\n",
            "mul: 32\n",
            "A: 4\n",
            "B: 8\n",
            "div: 0.5\n"
          ]
        }
      ]
    },
    {
      "cell_type": "code",
      "source": [
        "class calculator:\n",
        "    def __init__(self,a,b) -> None:\n",
        "        self.num1=a\n",
        "        self.num2=b\n",
        "\n",
        "    def add(self):\n",
        "        print(\"Add:\",int(self.num1)+int(self.num2))\n",
        "\n",
        "    def sub(self):\n",
        "        print(\"Sub:\",int(self.num1)-int(self.num2))\n",
        "\n",
        "    def mul(self):\n",
        "        print(\"mul:\",int(self.num1)*int(self.num2))\n",
        "\n",
        "    def div(self):\n",
        "        print(\"Div:\",int(self.num1)/int(self.num2))\n",
        "\n",
        "value=calculator(4,6)\n",
        "\n",
        "value.add()\n",
        "value.sub()\n",
        "value.mul()\n",
        "value.div()"
      ],
      "metadata": {
        "id": "1sq2CC75z0sk"
      },
      "execution_count": null,
      "outputs": []
    },
    {
      "cell_type": "code",
      "source": [
        "class phone:\n",
        "    chargertype=\"c-Type\"\n",
        "    def __init__(self,brand,price) -> None:\n",
        "        self.brand=brand\n",
        "        self.price=price\n",
        "\n",
        "    def display(self):\n",
        "        print(\"Brand:\",self.brand)\n",
        "        print(\"Price:\",self.price)\n",
        "        print(\"Chargertype:\",self.chargertype)\n",
        "phone.chargertype=\"B-Type\"\n",
        "samsung=phone(\"samsung\",20000)\n",
        "samsung.display()\n",
        "\n",
        "redmi=phone(\"redmi\",15000)\n",
        "redmi.display()"
      ],
      "metadata": {
        "id": "YC8Ejr8Ez2Bo"
      },
      "execution_count": null,
      "outputs": []
    },
    {
      "cell_type": "code",
      "source": [
        "class laptop:\n",
        "    chargertype=\"c-type\"\n",
        "    def __init__(self) -> None:\n",
        "        self.brand=\"\"\n",
        "        self.price=34\n",
        "    def setprice(self,price):\n",
        "        self.price=price\n",
        "    def getprice(self):\n",
        "        print(\"Price:\",self.price)\n",
        "\n",
        "    @classmethod\n",
        "    def changechargertype(cls):\n",
        "        cls.chargertype=\"b-type\"\n",
        "        print(\"Charger type changed to B\")\n",
        "\n",
        "hp=laptop()\n",
        "hp.setprice(20000)\n",
        "hp.getprice()\n",
        "laptop.changechargertype()\n",
        "\n"
      ],
      "metadata": {
        "id": "EnLxgdcxTdCX"
      },
      "execution_count": null,
      "outputs": []
    },
    {
      "cell_type": "code",
      "source": [
        "class laptop:\n",
        "    chargertype=\"c-type\"\n",
        "    def __init__(self) -> None:\n",
        "        self.brand=\"\"\n",
        "        self.price=34\n",
        "    def setprice(self,price):\n",
        "        self.price=price\n",
        "    def getprice(self):\n",
        "        print(\"Price:\",self.price)\n",
        "\n",
        "    @classmethod\n",
        "    def changechargertype(cls):\n",
        "        cls.chargertype=\"b-type\"\n",
        "        print(\"Charger type changed to B\")\n",
        "    @staticmethod\n",
        "    def info():\n",
        "        print(\"This is Python\")\n",
        "\n",
        "hp=laptop()\n",
        "hp.setprice(20000)\n",
        "hp.getprice()\n",
        "hp.info()\n",
        "laptop.changechargertype()\n",
        "\n"
      ],
      "metadata": {
        "id": "rDkbIy4AXb-Y"
      },
      "execution_count": null,
      "outputs": []
    },
    {
      "cell_type": "code",
      "source": [
        "class dad:\n",
        "    def phone(self):\n",
        "        print(\"dads phone\")\n",
        "class son(dad):\n",
        "    def laptop(slef):\n",
        "        print(\"sons laptop\")\n",
        "\n",
        "ram=son()\n",
        "ram.phone()\n"
      ],
      "metadata": {
        "id": "Ijl7kuaEYW0Q"
      },
      "execution_count": null,
      "outputs": []
    },
    {
      "cell_type": "code",
      "source": [
        "class dad:\n",
        "    def phone(self):\n",
        "        print(\"dads phone\")\n",
        "class mom:\n",
        "    def sweet(self):\n",
        "        print(\"moms Sweet\")\n",
        "class son(dad,mom):\n",
        "    def laptop(slef):\n",
        "        print(\"sons laptop\")\n",
        "\n",
        "ram=son()\n",
        "ram.phone()\n",
        "ram.sweet()\n"
      ],
      "metadata": {
        "id": "-U-S3cw5bw0U"
      },
      "execution_count": null,
      "outputs": []
    },
    {
      "cell_type": "code",
      "source": [
        "class grandpa:\n",
        "    def phone(self):\n",
        "        print(\"grandpa phone\")\n",
        "\n",
        "class dad(grandpa):\n",
        "    def money(self):\n",
        "        print(\"dad money\")\n",
        "\n",
        "class son(dad):\n",
        "    def laptop(self):\n",
        "        print(\"sons laptop\")\n",
        "\n",
        "ram=son()\n",
        "\n",
        "ram.laptop()\n",
        "ram.money()\n",
        "ram.phone()"
      ],
      "metadata": {
        "id": "W_jXVaZncWSH"
      },
      "execution_count": null,
      "outputs": []
    },
    {
      "cell_type": "code",
      "source": [
        "class dad:\n",
        "    def money(self):\n",
        "        print(\"dads money\")\n",
        "\n",
        "class son1(dad):\n",
        "    pass\n",
        "class son2(dad):\n",
        "    pass\n",
        "class son2(dad):\n",
        "    pass\n",
        "\n",
        "s2=son2()\n",
        "s2.money()"
      ],
      "metadata": {
        "id": "XxGxHfQPjOGb"
      },
      "execution_count": null,
      "outputs": []
    },
    {
      "cell_type": "code",
      "source": [
        "class teacher():\n",
        "    def __init__(self) -> None:\n",
        "        self.name=\"anu\"\n",
        "        print(\"Name:\",self.name)\n",
        "\n",
        "\n",
        "class school(teacher):\n",
        "    def __init__(self) -> None:\n",
        "        super().__init__()\n",
        "        self.name=\"malar\"\n",
        "    def display(self):\n",
        "        print(\"Name:\",self.name)\n",
        "\n",
        "\n",
        "\n",
        "t1=school()\n",
        "t1.display()"
      ],
      "metadata": {
        "id": "Zeup3rTnaKAQ"
      },
      "execution_count": null,
      "outputs": []
    },
    {
      "cell_type": "code",
      "source": [
        "class animal():\n",
        "    def sound(self):\n",
        "        print(\"animal makes sound\")\n",
        "class dog(animal):\n",
        "    def sound(Self):\n",
        "        print(\"dog barks\")\n",
        "class bird(animal):\n",
        "    def sound(self):\n",
        "        print(\"birds sing\")\n",
        "\n",
        "\n",
        "a1=animal()\n",
        "d1=dog()\n",
        "\n",
        "b1=bird()\n",
        "\n",
        "b1.sound()"
      ],
      "metadata": {
        "id": "yTQS_LQSfsTX"
      },
      "execution_count": null,
      "outputs": []
    },
    {
      "cell_type": "code",
      "source": [
        "class shape():\n",
        "    def area(self):\n",
        "        return 0\n",
        "\n",
        "class rectangle(shape):\n",
        "    def area(self):\n",
        "        l=int(input(\"L:\"))\n",
        "        b=int(input(\"B:\"))\n",
        "        return l*b\n",
        "\n",
        "s2=rectangle()\n",
        "print(s2.area())\n"
      ],
      "metadata": {
        "id": "Fq_SE2JnnkQM"
      },
      "execution_count": null,
      "outputs": []
    },
    {
      "cell_type": "code",
      "source": [
        "class person():\n",
        "    def __init__(self,name) -> None:\n",
        "        self.name=name\n",
        "\n",
        "class student(person):\n",
        "    def __init__(self,name,grade) -> None:\n",
        "        super().__init__(name)\n",
        "        self.grade=grade\n",
        "\n",
        "    def display(self):\n",
        "        print(self.name,self.grade)\n",
        "\n",
        "s1=student(\"Hari\",\"A\")\n",
        "s1.display()\n"
      ],
      "metadata": {
        "id": "lWllh5xVuWKc"
      },
      "execution_count": null,
      "outputs": []
    },
    {
      "cell_type": "code",
      "source": [
        "class vehicle():\n",
        "    def start(self):\n",
        "        print(\"Vehicle started\")\n",
        "\n",
        "class car(vehicle):\n",
        "    def start(self):\n",
        "        print(\"car started\")\n",
        "\n",
        "c=car()\n",
        "c.start()"
      ],
      "metadata": {
        "colab": {
          "base_uri": "https://localhost:8080/"
        },
        "id": "sXxsW_QvyPnZ",
        "outputId": "423fe28b-b9a4-4636-ab0a-5176daeb208b"
      },
      "execution_count": null,
      "outputs": [
        {
          "output_type": "stream",
          "name": "stdout",
          "text": [
            "car started\n"
          ]
        }
      ]
    },
    {
      "cell_type": "code",
      "source": [
        "class employee():\n",
        "    def __init__(self,name,salary) -> None:\n",
        "        self.name=name\n",
        "        self.salary=salary\n",
        "\n",
        "class manager(employee):\n",
        "    def __init__(self,name,department,salary) -> None:\n",
        "        super().__init__(name,salary)\n",
        "        self.department=department\n",
        "\n",
        "    def display(self):\n",
        "        print(self.name,self.department,self.salary)\n",
        "\n",
        "m1=manager(\"Sid\",\"CSE\",200000)\n",
        "m1.display()"
      ],
      "metadata": {
        "id": "a9geIrZDy_TS"
      },
      "execution_count": null,
      "outputs": []
    },
    {
      "cell_type": "code",
      "source": [
        "class company():\n",
        "    def __init__(self) -> None:\n",
        "        self._companyname=\"Google\"\n",
        "\n",
        "class b(company):\n",
        "    pass\n",
        "\n",
        "b1=b()\n",
        "\n",
        "print(b1._companyname)"
      ],
      "metadata": {
        "id": "Tb__pAmTuWJ-"
      },
      "execution_count": null,
      "outputs": []
    },
    {
      "cell_type": "code",
      "source": [
        "try:\n",
        "    a=int(input())\n",
        "    b=int(input())\n",
        "    c=input()\n",
        "    print(c/a)\n",
        "except ValueError as e:\n",
        "    print(\"ValueError\",e)\n",
        "except TypeError as e:\n",
        "    print(\"TypeError\",e)"
      ],
      "metadata": {
        "id": "rizWiXV12vq5"
      },
      "execution_count": null,
      "outputs": []
    },
    {
      "cell_type": "code",
      "source": [
        "try:\n",
        "    a=int(input())\n",
        "    b=int(input())\n",
        "except ValueError as e:\n",
        "    print(\"ValueError\",e)\n",
        "except TypeError as e:\n",
        "    print(\"TypeError\",e)\n",
        "except Exception :\n",
        "    print(\"something wrong\")\n",
        "finally:\n",
        "    print(\"done\")"
      ],
      "metadata": {
        "id": "buoNmAgX8Llk"
      },
      "execution_count": null,
      "outputs": []
    },
    {
      "cell_type": "code",
      "source": [],
      "metadata": {
        "id": "YBsgkIzW-CpA"
      },
      "execution_count": null,
      "outputs": []
    }
  ]
}