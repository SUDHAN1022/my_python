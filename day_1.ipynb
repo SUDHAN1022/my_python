{
  "cells": [
    {
      "cell_type": "markdown",
      "metadata": {
        "id": "view-in-github",
        "colab_type": "text"
      },
      "source": [
        "<a href=\"https://colab.research.google.com/github/SUDHAN1022/my_python/blob/main/day_1.ipynb\" target=\"_parent\"><img src=\"https://colab.research.google.com/assets/colab-badge.svg\" alt=\"Open In Colab\"/></a>"
      ]
    },
    {
      "cell_type": "markdown",
      "source": [
        "printing in python \n",
        "\n"
      ],
      "metadata": {
        "id": "YfgnNzyyT7qg"
      }
    },
    {
      "cell_type": "code",
      "execution_count": 5,
      "metadata": {
        "colab": {
          "base_uri": "https://localhost:8080/"
        },
        "id": "9IWarrcJRvmm",
        "outputId": "ee906d10-eb92-43fc-8193-557aef6aa33f"
      },
      "outputs": [
        {
          "output_type": "stream",
          "name": "stdout",
          "text": [
            "   /|\n",
            "  / |\n",
            " /  |\n",
            "/   |\n",
            "Trianlge\n"
          ]
        }
      ],
      "source": [
        "print(\"   /|\")\n",
        "print(\"  / |\")\n",
        "print(\" /  |\")\n",
        "print(\"/   |\")\n",
        "print(\"Trianlge\")"
      ]
    },
    {
      "cell_type": "markdown",
      "source": [
        "Data & Varialbles"
      ],
      "metadata": {
        "id": "6VBv2jhaUEWf"
      }
    },
    {
      "cell_type": "code",
      "source": [
        "character_name=\"ROHIT\"\n",
        "rohit_age=50\n",
        "print(character_name +\" hits 264 runs\")\n",
        "print(character_name +\" won the worldcup \")\n",
        "character_name=\"Virat\"\n",
        "rohit_age=\"20\"\n",
        "print(character_name +\" to lead BGT in 2023\")\n",
        "print(character_name +\" turns \" + rohit_age+\" by 2022\")"
      ],
      "metadata": {
        "colab": {
          "base_uri": "https://localhost:8080/"
        },
        "id": "AAFBWKKgUHnB",
        "outputId": "fc5d708c-8aa9-4a93-dc5e-22bcb2317397"
      },
      "execution_count": 15,
      "outputs": [
        {
          "output_type": "stream",
          "name": "stdout",
          "text": [
            "ROHIT hits 264 runs\n",
            "ROHIT won the worldcup \n",
            "Virat to lead BGT in 2023\n",
            "Virat turns 20 by 2022\n"
          ]
        }
      ]
    },
    {
      "cell_type": "markdown",
      "source": [
        "Strings"
      ],
      "metadata": {
        "id": "Lr_EZYK7XX_Z"
      }
    },
    {
      "cell_type": "code",
      "source": [
        "phrase=\"Coding is important\"\n",
        "print(phrase.upper().isupper())\n",
        "print(len(phrase))\n",
        "print(phrase[3])\n",
        "print(phrase.index(\"is\"))\n",
        "print(phrase.replace(\"important\",\"Future\"))"
      ],
      "metadata": {
        "colab": {
          "base_uri": "https://localhost:8080/"
        },
        "id": "XFEmJXZMUHxs",
        "outputId": "a8ecbc6d-331d-49d7-8f85-95f1b74d1952"
      },
      "execution_count": 34,
      "outputs": [
        {
          "output_type": "stream",
          "name": "stdout",
          "text": [
            "True\n",
            "19\n",
            "i\n",
            "7\n",
            "Coding is Future\n"
          ]
        }
      ]
    },
    {
      "cell_type": "markdown",
      "source": [
        "Numbers\n"
      ],
      "metadata": {
        "id": "Qvj50T_kacXp"
      }
    },
    {
      "cell_type": "code",
      "source": [
        "#print(10 % 3)\n",
        "\n",
        "my_num=-5\n",
        "print(pow(3,4))\n",
        "print(max(4,5,6))\n",
        "print(min(4,5,6))\n",
        "print(round(3.6))"
      ],
      "metadata": {
        "colab": {
          "base_uri": "https://localhost:8080/"
        },
        "id": "2Wman2GraePH",
        "outputId": "5bc87a8c-42c8-41d8-c483-6f6fc05a0fce"
      },
      "execution_count": 15,
      "outputs": [
        {
          "output_type": "stream",
          "name": "stdout",
          "text": [
            "81\n",
            "6\n",
            "4\n",
            "4\n"
          ]
        }
      ]
    },
    {
      "cell_type": "code",
      "source": [
        "from math import *\n",
        "\n",
        "print(sqrt(36))\n"
      ],
      "metadata": {
        "colab": {
          "base_uri": "https://localhost:8080/"
        },
        "id": "TDLb6SuN1VSU",
        "outputId": "40a1c0bd-a772-4fb5-eabc-2c4e5481875d"
      },
      "execution_count": 21,
      "outputs": [
        {
          "output_type": "stream",
          "name": "stdout",
          "text": [
            "6.0\n"
          ]
        }
      ]
    },
    {
      "cell_type": "markdown",
      "source": [
        "Getting input from user"
      ],
      "metadata": {
        "id": "ezPqaC102SSu"
      }
    },
    {
      "cell_type": "code",
      "source": [
        "Name=input(\"Enter the name: \")\n",
        "age=input(\"Enter the age: \")\n",
        "print(\"Hello \" + Name + \" You are \"+ age + \" old.\")"
      ],
      "metadata": {
        "colab": {
          "base_uri": "https://localhost:8080/"
        },
        "id": "aKvW_E3P2YPh",
        "outputId": "56c94931-1658-4d11-9ccc-08f552aff42e"
      },
      "execution_count": 26,
      "outputs": [
        {
          "output_type": "stream",
          "name": "stdout",
          "text": [
            "Enter the name: rohiy\n",
            "Enter the age: 35\n",
            "Hello rohiy You are 35 old.\n"
          ]
        }
      ]
    },
    {
      "cell_type": "markdown",
      "source": [
        "BASIC CALUCULATOR"
      ],
      "metadata": {
        "id": "j0ycZ1Fn3nVw"
      }
    },
    {
      "cell_type": "code",
      "source": [
        "num1=(input(\"Enter a num1: \"))\n",
        "num2=(input(\"Enter a num2: \"))\n",
        "result=float(num1) +float(num2)\n",
        "print(result)"
      ],
      "metadata": {
        "colab": {
          "base_uri": "https://localhost:8080/"
        },
        "id": "i28N6EuM3rEG",
        "outputId": "e6c56690-7970-42dc-8a67-2ec98067aebd"
      },
      "execution_count": 32,
      "outputs": [
        {
          "output_type": "stream",
          "name": "stdout",
          "text": [
            "Enter a num1: 5.4\n",
            "Enter a num2: 4.5\n",
            "9.9\n"
          ]
        }
      ]
    },
    {
      "cell_type": "markdown",
      "source": [
        "MAD LIBS GAME\n"
      ],
      "metadata": {
        "id": "WQow-eFi5C97"
      }
    },
    {
      "cell_type": "code",
      "source": [
        "colour=input(\"Enter the colour: \")\n",
        "plural_noun=input(\"Enter the plural noun: \")\n",
        "celebrity=input(\"Enter the celebrity: \")\n",
        "print(\"roses are \"+ colour )\n",
        "print(plural_noun +\" are blue\")\n",
        "print(\"I love \" +celebrity)"
      ],
      "metadata": {
        "colab": {
          "base_uri": "https://localhost:8080/"
        },
        "id": "SfYjH8Ku5GbS",
        "outputId": "90124356-9a8d-43e7-c7b3-7917494b6265"
      },
      "execution_count": 34,
      "outputs": [
        {
          "output_type": "stream",
          "name": "stdout",
          "text": [
            "Enter the colour: green\n",
            "Enter the plural noun: games\n",
            "Enter the celebrity: rohit\n",
            "roses are green\n",
            "games are blue\n",
            "I love rohit\n"
          ]
        }
      ]
    }
  ],
  "metadata": {
    "colab": {
      "provenance": [],
      "authorship_tag": "ABX9TyNf6V9zMogPyUj4qvatREcp",
      "include_colab_link": true
    },
    "kernelspec": {
      "display_name": "Python 3",
      "name": "python3"
    },
    "language_info": {
      "name": "python"
    }
  },
  "nbformat": 4,
  "nbformat_minor": 0
}